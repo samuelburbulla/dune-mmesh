{
 "cells": [
  {
   "cell_type": "markdown",
   "metadata": {},
   "source": [
    "# Two-phase Navier-Stokes with surface tension"
   ]
  },
  {
   "cell_type": "markdown",
   "metadata": {},
   "source": [
    "Let's consider the incompressible Navier-Stokes equations with two immiscible phases and surface tension.\n",
    "\n",
    "A domain $\\Omega \\subset \\mathbb{R}^2$ is assumed to be separeted into two phases $\\Omega_i(t), i=1,2,$ by a sharp interface $\\Gamma(t)$.\n",
    "\n",
    "Find $(u, p)$ and $\\Gamma(t)$ s.t.\n",
    "\\begin{align}\n",
    "\\renewcommand{\\jump}[1]{[\\mskip-5mu[ #1 ]\\mskip-5mu]}\n",
    "\\end{align}\n",
    "\\begin{align}\n",
    "u_t + \\nabla u \\cdot u + \\nabla \\cdot T / \\rho &= g, &\\qquad &\\text{in } \\Omega_i(t), \\quad &i&=1,2,\\\\\n",
    "\\nabla \\cdot u &= 0, &\\qquad &\\text{in } \\Omega_i(t), \\quad &i&=1,2,\\\\\n",
    "\\jump{ T } n &= -\\sigma \\kappa \\cdot n, &\\qquad &\\text{on } \\Gamma(t),\\\\\n",
    "\\jump{u} &= 0, &\\qquad &\\text{on } \\Gamma(t),\\\\\n",
    "\\dot x &= u, &\\qquad &x \\in \\Gamma(t),\\\\\n",
    "u(0) &= u_0, &\\qquad &\\text{in } \\Omega_i(0), \\quad &i&=1,2,\\\\\n",
    "\\Gamma(0) &= \\Gamma_0.\n",
    "\\end{align}\n",
    "\n",
    "Here, $T := pI - \\mu (\\nabla u + (\\nabla u)^T)$ is the stress tensor, $\\mu_i, i=1,2,$ are the dynamic viscositities and $\\rho_i, i=1,2,$ the densities of the two phases, $g$ is the gravity, $\\sigma$ is the surface tension and $\\kappa$ is the signed mean curvature of the interface times its normal.\n",
    "\n",
    "Now, we use Dune-MMesh to compute the result of a rising bubble. Let us consider the [circle](grids/circle.rst) grid."
   ]
  },
  {
   "cell_type": "code",
   "execution_count": 1,
   "metadata": {},
   "outputs": [],
   "source": [
    "from dune.grid import reader\n",
    "from dune.mmesh import mmesh, trace, skeleton, domainMarker\n",
    "from dune.fem.view import adaptiveLeafGridView as adaptive\n",
    "\n",
    "dim = 2\n",
    "file = \"grids/circle.msh\"\n",
    "\n",
    "gridView = adaptive( mmesh((reader.gmsh, file), dim) )\n",
    "hgrid = gridView.hierarchicalGrid\n",
    "igridView = adaptive( hgrid.interfaceGrid )"
   ]
  },
  {
   "cell_type": "code",
   "execution_count": 2,
   "metadata": {},
   "outputs": [],
   "source": [
    "from dune.ufl import Constant\n",
    "\n",
    "mu0   = Constant(  1e-1, name=\"mu0\")\n",
    "mu1   = Constant(     1, name=\"mu1\")\n",
    "rho0  = Constant(     3, name=\"rho0\")\n",
    "rho1  = Constant(     1, name=\"rho1\")\n",
    "sigma = Constant(  1e-1, name=\"sigma\")\n",
    "g     = Constant(    10, name=\"g\")\n",
    "\n",
    "dt = 0.01\n",
    "T  = 2.0"
   ]
  },
  {
   "cell_type": "code",
   "execution_count": 3,
   "metadata": {},
   "outputs": [],
   "source": [
    "from dune.mmesh import domainMarker\n",
    "\n",
    "dm = domainMarker(gridView)\n",
    "mu  = (1-dm) * mu0  + dm * mu1\n",
    "rho = (1-dm) * rho0 + dm * rho1"
   ]
  },
  {
   "cell_type": "code",
   "execution_count": 4,
   "metadata": {},
   "outputs": [],
   "source": [
    "from ufl import *\n",
    "from dune.fem.space import dglagrange, product\n",
    "\n",
    "uspace = dglagrange(gridView, dimRange=2, order=2)\n",
    "pspace = dglagrange(gridView, order=1)\n",
    "\n",
    "u  = TrialFunction(uspace)\n",
    "uu = TestFunction(uspace)\n",
    "\n",
    "p  = TrialFunction(pspace)\n",
    "pp = TestFunction(pspace)\n",
    "\n",
    "uh  = uspace.interpolate([0,0], name=\"velocity\")\n",
    "uh1 = uspace.interpolate([0,0], name=\"velocity1\")\n",
    "ph  = pspace.interpolate(0, name=\"pressure\")"
   ]
  },
  {
   "cell_type": "markdown",
   "metadata": {},
   "source": [
    "## Curvature\n",
    "\n",
    "The mean curvature of the interface times its normal can be computed by\n",
    "\\begin{align*}\n",
    "\\int_{\\Gamma(t)} \\kappa \\cdot \\phi + \\nabla x \\cdot \\nabla \\phi \\ dS = 0, &\\qquad &\\text{in } \\Gamma(t).\\\\\n",
    "\\end{align*}"
   ]
  },
  {
   "cell_type": "code",
   "execution_count": 5,
   "metadata": {},
   "outputs": [],
   "source": [
    "from dune.fem.space import lagrange\n",
    "from dune.fem.scheme import galerkin\n",
    "\n",
    "kspace = lagrange(igridView, dimRange=dim, order=1)\n",
    "k  = TrialFunction(kspace)\n",
    "kk = TestFunction(kspace)\n",
    "\n",
    "curvature = kspace.interpolate([0]*dim, name=\"curvature\")\n",
    "\n",
    "ix = SpatialCoordinate(kspace)\n",
    "C  = inner(k, kk) * dx\n",
    "C -= inner(grad(ix), grad(kk)) * dx\n",
    "kscheme = galerkin([C == 0])\n",
    "res = kscheme.solve(curvature)"
   ]
  },
  {
   "cell_type": "markdown",
   "metadata": {},
   "source": [
    "## Navier-Stokes equations\n",
    "\n",
    "As solution strategy, we use an operator split known as Chorin's method.\n",
    "Denoting $(u,v) := \\int_\\Omega u v dx$ we solve consecutively\n",
    "\n",
    "\\begin{align}\n",
    "\\renewcommand{\\jump}[1]{[\\mskip-5mu[ #1 ]\\mskip-5mu]}\n",
    "\\end{align}\n",
    "\\begin{align}\n",
    "((u^*_h - u^{n-1}_h), v) / \\tau + (\\nabla u^{n-1}_h \\cdot u^{n-1}_h, v) + (\\mu / \\rho (\\nabla u^{n}_h + (\\nabla u^{n}_h)^T), \\nabla v) &= (g, v), \\\\\n",
    "(\\nabla p^{n}_h, \\nabla q) &= -(\\rho \\nabla \\cdot u^*_h, q) / \\tau - \\int_\\Gamma (\\sigma \\kappa \\cdot n - n \\jump{(\\mu (\\nabla u^*_h + (\\nabla u^*_h)^T) )} n) \\jump{q} \\ dS, \\\\\n",
    "(u^{n}_h, v) &= (u^*_h, v) - \\tau (\\nabla p^{n}_h / \\rho, v). \\\\\n",
    "\\end{align}"
   ]
  },
  {
   "cell_type": "code",
   "execution_count": 6,
   "metadata": {},
   "outputs": [],
   "source": [
    "from dune.mmesh import interfaceIndicator\n",
    "from dune.fem.scheme import galerkin\n",
    "from dune.ufl import Constant\n",
    "\n",
    "x = SpatialCoordinate(pspace)\n",
    "n = FacetNormal(pspace)\n",
    "h = FacetArea(pspace)\n",
    "I = interfaceIndicator(igridView)\n",
    "\n",
    "uBC = as_vector([0,0])\n",
    "\n",
    "tau  = Constant(dt, name=\"tau\")\n",
    "penu = Constant(1e3, name=\"penaltyu\")\n",
    "penp = Constant(1e3, name=\"penaltyp\")\n",
    "\n",
    "a1  = rho * inner(u - uh, uu) / tau * dx\n",
    "a1 += rho * inner(grad(uh) * uh, uu) * dx\n",
    "a1 += mu * inner(grad(u) + grad(u).T, grad(uu)) * dx\n",
    "a1 += rho * g * uu[1] * dx\n",
    "a1 += penu / h * inner(jump(u), jump(uu)) * dS\n",
    "a1 -= dot(dot(avg(mu * (grad(u) + grad(u).T)), n('+')), jump(uu)) * dS\n",
    "a1 += penu / h * inner(u - uBC, uu) * ds\n",
    "a1 -= dot(dot(mu * (grad(u) + grad(u).T), n), uu) * ds\n",
    "\n",
    "a2  = inner(grad(p), grad(pp)) * dx\n",
    "a2 += rho * div(uh1) * pp / tau * dx\n",
    "a2 += penp / h * jump(p) * jump(pp) * dS\n",
    "a2 -= dot(dot(avg(grad(p)), n('+')), jump(pp)) * dS\n",
    "a2 += penu / h * (p - 0) * pp * conditional(x[1] < 1e-6, 1, 0) * ds\n",
    "a2 -= dot(dot(grad(p), n), pp) * conditional(x[1] < 1e-6, 1, 0) * ds\n",
    "\n",
    "# S = sigma * inner(avg(skeleton(curvature)), n('+'))\n",
    "# S -= dot(jump(mu * (nabla_grad(uh1) + nabla_grad(uh1).T), n('+')), n('+'))\n",
    "# a2 += penp / h * S * jump(pp) * I * dS\n",
    "\n",
    "a3  = rho * inner(u - uh1, uu) * dx\n",
    "a3 += tau * inner(grad(ph), uu) * dx\n",
    "a3 += penu / h * inner(jump(u), jump(uu)) * dS\n",
    "a3 += penu / h * inner(u - uBC, uu) * ds\n",
    "\n",
    "A1 = galerkin([a1 == 0], solver=('suitesparse', 'umfpack'))\n",
    "A2 = galerkin([a2 == 0], solver=('suitesparse', 'umfpack'))\n",
    "A3 = galerkin([a3 == 0], solver=('suitesparse', 'umfpack'))"
   ]
  },
  {
   "cell_type": "markdown",
   "metadata": {},
   "source": [
    "## Moving\n",
    "\n",
    "We can obtain the interface movement from the trace of the bulk velocity $u$."
   ]
  },
  {
   "cell_type": "code",
   "execution_count": 7,
   "metadata": {},
   "outputs": [],
   "source": [
    "import numpy as np\n",
    "\n",
    "def getShifts(uh):\n",
    "    mapper = igridView.hierarchicalGrid.leafView.indexSet\n",
    "    shifts = np.zeros((igridView.size(dim-1), dim))\n",
    "    for e in igridView.elements:\n",
    "        for v in e.subEntities(igridView.dimension):\n",
    "            x = e.geometry.toLocal(v.geometry.center)\n",
    "            shifts[ mapper.index(v) ] += 0.5 * trace(uh)(e, x)\n",
    "    return shifts"
   ]
  },
  {
   "cell_type": "markdown",
   "metadata": {},
   "source": [
    "## Timeloop"
   ]
  },
  {
   "cell_type": "code",
   "execution_count": null,
   "metadata": {},
   "outputs": [],
   "source": [
    "from dune.fem import parameter, adapt\n",
    "parameter.append( { \"fem.adaptation.method\": \"callback\" } )\n",
    "from dune.fem.plotting import plotPointData as plot\n",
    "import matplotlib.pyplot as plt\n",
    "\n",
    "N = 4\n",
    "i = 0\n",
    "fig, axs = plt.subplots(1, N, figsize=(16,6))\n",
    "\n",
    "uh.interpolate([0,0])\n",
    "ph.interpolate(0)\n",
    "\n",
    "step = 0\n",
    "t = 0\n",
    "while t < T+dt:\n",
    "    kscheme.solve(curvature)\n",
    "\n",
    "    A1.solve(target=uh1)\n",
    "    A2.solve(target=ph)\n",
    "    A3.solve(target=uh)\n",
    "\n",
    "    hgrid.markElements()\n",
    "    hgrid.ensureInterfaceMovement( 2*dt*getShifts(uh) )\n",
    "    adapt([uh, uh1, ph, dm])\n",
    "    adapt([curvature])\n",
    "    hgrid.moveInterface( dt*getShifts(uh) )\n",
    "    \n",
    "    t += dt\n",
    "    gridView.writeVTK(\"twophase-\"+str(step), pointdata=[ph, uh], celldata=[dm], nonconforming=True)\n",
    "    igridView.writeVTK(\"interface-\"+str(step), pointdata=[curvature])\n",
    "    step += 1\n",
    "    \n",
    "    if int(N * t/T) > i:\n",
    "        plot(ph, figure=(fig, axs[i]), gridLines='black', linewidth=0.02)\n",
    "        plot(uh, figure=(fig, axs[i]), gridLines=None, vectors=[0,1])\n",
    "        i += 1"
   ]
  },
  {
   "cell_type": "code",
   "execution_count": null,
   "metadata": {},
   "outputs": [],
   "source": []
  }
 ],
 "metadata": {
  "kernelspec": {
   "display_name": "dev-env",
   "language": "python",
   "name": "dev-env"
  },
  "language_info": {
   "codemirror_mode": {
    "name": "ipython",
    "version": 3
   },
   "file_extension": ".py",
   "mimetype": "text/x-python",
   "name": "python",
   "nbconvert_exporter": "python",
   "pygments_lexer": "ipython3",
   "version": "3.9.2"
  }
 },
 "nbformat": 4,
 "nbformat_minor": 5
}
