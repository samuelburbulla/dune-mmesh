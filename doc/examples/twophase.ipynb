{
 "cells": [
  {
   "cell_type": "markdown",
   "id": "relative-strike",
   "metadata": {},
   "source": [
    "# Two-phase Navier-Stokes with surface tension"
   ]
  },
  {
   "cell_type": "markdown",
   "id": "rough-physics",
   "metadata": {},
   "source": [
    "Let's consider the incompressible Navier-Stokes equations with two immiscible phases and surface tension.\n",
    "\n",
    "A domain $\\Omega \\subset \\mathbb{R}^2$ is assumed to be separeted into two phases $\\Omega_i(t), i=1,2,$ by a sharp interface $\\Gamma(t)$.\n",
    "\n",
    "Find $(u, p)$ and $\\Gamma(t)$ s.t.\n",
    "\\begin{align}\n",
    "\\renewcommand{\\jump}[1]{[\\mskip-5mu[ #1 ]\\mskip-5mu]}\n",
    "\\end{align}\n",
    "\\begin{align}\n",
    "u_t + \\nabla u \\cdot u + \\nabla \\cdot T / \\rho &= g, &\\qquad &\\text{in } \\Omega_i(t), \\quad &i&=1,2,\\\\\n",
    "\\nabla \\cdot u &= 0, &\\qquad &\\text{in } \\Omega_i(t), \\quad &i&=1,2,\\\\\n",
    "\\jump{ T } n &= -\\sigma \\kappa \\cdot n, &\\qquad &\\text{on } \\Gamma(t),\\\\\n",
    "\\jump{u} &= 0, &\\qquad &\\text{on } \\Gamma(t),\\\\\n",
    "\\dot x &= u, &\\qquad &x \\in \\Gamma(t),\\\\\n",
    "u(0) &= u_0, &\\qquad &\\text{in } \\Omega_i(0), \\quad &i&=1,2,\\\\\n",
    "\\Gamma(0) &= \\Gamma_0.\n",
    "\\end{align}\n",
    "\n",
    "Here, $T := pI - \\mu (\\nabla u + (\\nabla u)^T)$ is the stress tensor, $\\mu_i, i=1,2,$ are the dynamic viscositities and $\\rho_i, i=1,2,$ the densities of the two phases, $g$ is the gravity, $\\sigma$ is the surface tension and $\\kappa$ is the signed mean curvature of the interface times its normal.\n",
    "\n",
    "Now, we use Dune-MMesh to compute the result of a rising bubble. Let us consider the [circle](grids/circle.rst) grid."
   ]
  },
  {
   "cell_type": "code",
   "execution_count": 1,
   "id": "intense-baseball",
   "metadata": {},
   "outputs": [
    {
     "ename": "KeyboardInterrupt",
     "evalue": "",
     "output_type": "error",
     "traceback": [
      "\u001b[0;31m---------------------------------------------------------------------------\u001b[0m",
      "\u001b[0;31mKeyboardInterrupt\u001b[0m                         Traceback (most recent call last)",
      "\u001b[0;32m<ipython-input-1-24c827dfc407>\u001b[0m in \u001b[0;36m<module>\u001b[0;34m\u001b[0m\n\u001b[1;32m      8\u001b[0m \u001b[0mgridView\u001b[0m \u001b[0;34m=\u001b[0m \u001b[0madaptive\u001b[0m\u001b[0;34m(\u001b[0m \u001b[0mmmesh\u001b[0m\u001b[0;34m(\u001b[0m\u001b[0;34m(\u001b[0m\u001b[0mreader\u001b[0m\u001b[0;34m.\u001b[0m\u001b[0mgmsh\u001b[0m\u001b[0;34m,\u001b[0m \u001b[0mfile\u001b[0m\u001b[0;34m)\u001b[0m\u001b[0;34m,\u001b[0m \u001b[0mdim\u001b[0m\u001b[0;34m)\u001b[0m \u001b[0;34m)\u001b[0m\u001b[0;34m\u001b[0m\u001b[0;34m\u001b[0m\u001b[0m\n\u001b[1;32m      9\u001b[0m \u001b[0mhgrid\u001b[0m \u001b[0;34m=\u001b[0m \u001b[0mgridView\u001b[0m\u001b[0;34m.\u001b[0m\u001b[0mhierarchicalGrid\u001b[0m\u001b[0;34m\u001b[0m\u001b[0;34m\u001b[0m\u001b[0m\n\u001b[0;32m---> 10\u001b[0;31m \u001b[0migridView\u001b[0m \u001b[0;34m=\u001b[0m \u001b[0madaptive\u001b[0m\u001b[0;34m(\u001b[0m \u001b[0mhgrid\u001b[0m\u001b[0;34m.\u001b[0m\u001b[0minterfaceGrid\u001b[0m \u001b[0;34m)\u001b[0m\u001b[0;34m\u001b[0m\u001b[0;34m\u001b[0m\u001b[0m\n\u001b[0m",
      "\u001b[0;32m~/dune/dune-fem/build-cmake/python/dune/fem/view.py\u001b[0m in \u001b[0;36madaptiveLeafGridView\u001b[0;34m(grid, *args, **kwargs)\u001b[0m\n\u001b[1;32m     66\u001b[0m                  [\"pybind11::keep_alive< 1, 2 >()\"])\n\u001b[1;32m     67\u001b[0m \u001b[0;34m\u001b[0m\u001b[0m\n\u001b[0;32m---> 68\u001b[0;31m     \u001b[0mGridView\u001b[0m \u001b[0;34m=\u001b[0m \u001b[0mload\u001b[0m\u001b[0;34m(\u001b[0m\u001b[0mincludes\u001b[0m\u001b[0;34m,\u001b[0m \u001b[0mtypeName\u001b[0m\u001b[0;34m,\u001b[0m \u001b[0mconstructor\u001b[0m\u001b[0;34m)\u001b[0m\u001b[0;34m.\u001b[0m\u001b[0mGridView\u001b[0m\u001b[0;34m\u001b[0m\u001b[0;34m\u001b[0m\u001b[0m\n\u001b[0m\u001b[1;32m     69\u001b[0m     \u001b[0;31m# setattr(GridView,\"canAdapt\",True)\u001b[0m\u001b[0;34m\u001b[0m\u001b[0;34m\u001b[0m\u001b[0;34m\u001b[0m\u001b[0m\n\u001b[1;32m     70\u001b[0m     \u001b[0;32mreturn\u001b[0m \u001b[0mGridView\u001b[0m\u001b[0;34m(\u001b[0m\u001b[0mgrid\u001b[0m\u001b[0;34m)\u001b[0m\u001b[0;34m\u001b[0m\u001b[0;34m\u001b[0m\u001b[0m\n",
      "\u001b[0;32m~/dune/dune-fem/build-cmake/python/dune/fem/view.py\u001b[0m in \u001b[0;36mload\u001b[0;34m(includes, typeName, *args)\u001b[0m\n\u001b[1;32m     22\u001b[0m     \u001b[0mholder\u001b[0m \u001b[0;34m=\u001b[0m \u001b[0;34m\"Dune::FemPy::GridPartPtr< \"\u001b[0m \u001b[0;34m+\u001b[0m \u001b[0mtypeName\u001b[0m \u001b[0;34m+\u001b[0m \u001b[0;34m\" >\"\u001b[0m\u001b[0;34m\u001b[0m\u001b[0;34m\u001b[0m\u001b[0m\n\u001b[1;32m     23\u001b[0m     \u001b[0;31m# module = generator.load(includes, typeName, moduleName, *args, options=[holder])\u001b[0m\u001b[0;34m\u001b[0m\u001b[0;34m\u001b[0m\u001b[0;34m\u001b[0m\u001b[0m\n\u001b[0;32m---> 24\u001b[0;31m     \u001b[0mmodule\u001b[0m \u001b[0;34m=\u001b[0m \u001b[0mgenerator\u001b[0m\u001b[0;34m.\u001b[0m\u001b[0mload\u001b[0m\u001b[0;34m(\u001b[0m\u001b[0;34m[\u001b[0m\u001b[0mincludes\u001b[0m\u001b[0;34m,\u001b[0m\u001b[0mpyIncludes\u001b[0m\u001b[0;34m]\u001b[0m\u001b[0;34m,\u001b[0m \u001b[0mtypeName\u001b[0m\u001b[0;34m,\u001b[0m \u001b[0mmoduleName\u001b[0m\u001b[0;34m,\u001b[0m \u001b[0;34m*\u001b[0m\u001b[0margs\u001b[0m\u001b[0;34m)\u001b[0m\u001b[0;34m\u001b[0m\u001b[0;34m\u001b[0m\u001b[0m\n\u001b[0m\u001b[1;32m     25\u001b[0m     \u001b[0mdune\u001b[0m\u001b[0;34m.\u001b[0m\u001b[0mgrid\u001b[0m\u001b[0;34m.\u001b[0m\u001b[0mgrid_generator\u001b[0m\u001b[0;34m.\u001b[0m\u001b[0maddAttr\u001b[0m\u001b[0;34m(\u001b[0m\u001b[0mmodule\u001b[0m\u001b[0;34m,\u001b[0m \u001b[0mmodule\u001b[0m\u001b[0;34m.\u001b[0m\u001b[0mGridView\u001b[0m\u001b[0;34m)\u001b[0m\u001b[0;34m\u001b[0m\u001b[0;34m\u001b[0m\u001b[0m\n\u001b[1;32m     26\u001b[0m     \u001b[0;32mreturn\u001b[0m \u001b[0mmodule\u001b[0m\u001b[0;34m\u001b[0m\u001b[0;34m\u001b[0m\u001b[0m\n",
      "\u001b[0;32m~/dune/dune-common/build-cmake/python/dune/generator/generator.py\u001b[0m in \u001b[0;36mload\u001b[0;34m(self, includes, typeName, moduleName, defines, preamble, options, bufferProtocol, dynamicAttr, baseClasses, *args)\u001b[0m\n\u001b[1;32m    157\u001b[0m                                 \u001b[0mbufferProtocol\u001b[0m\u001b[0;34m=\u001b[0m\u001b[0mb\u001b[0m\u001b[0;34m,\u001b[0m \u001b[0mdynamicAttr\u001b[0m\u001b[0;34m=\u001b[0m\u001b[0md\u001b[0m\u001b[0;34m,\u001b[0m\u001b[0;34m\u001b[0m\u001b[0;34m\u001b[0m\u001b[0m\n\u001b[1;32m    158\u001b[0m                                 baseClasses=bc)\n\u001b[0;32m--> 159\u001b[0;31m         \u001b[0;32mreturn\u001b[0m \u001b[0mself\u001b[0m\u001b[0;34m.\u001b[0m\u001b[0mpost\u001b[0m\u001b[0;34m(\u001b[0m\u001b[0mmoduleName\u001b[0m\u001b[0;34m,\u001b[0m \u001b[0msource\u001b[0m\u001b[0;34m)\u001b[0m\u001b[0;34m\u001b[0m\u001b[0;34m\u001b[0m\u001b[0m\n\u001b[0m\u001b[1;32m    160\u001b[0m \u001b[0;34m\u001b[0m\u001b[0m\n\u001b[1;32m    161\u001b[0m \u001b[0;32mdef\u001b[0m \u001b[0msimpleGenerator\u001b[0m\u001b[0;34m(\u001b[0m\u001b[0minc\u001b[0m\u001b[0;34m,\u001b[0m \u001b[0mbaseType\u001b[0m\u001b[0;34m,\u001b[0m \u001b[0mnamespace\u001b[0m\u001b[0;34m,\u001b[0m \u001b[0mpythonname\u001b[0m\u001b[0;34m=\u001b[0m\u001b[0;32mNone\u001b[0m\u001b[0;34m,\u001b[0m \u001b[0mfilename\u001b[0m\u001b[0;34m=\u001b[0m\u001b[0;32mNone\u001b[0m\u001b[0;34m)\u001b[0m\u001b[0;34m:\u001b[0m\u001b[0;34m\u001b[0m\u001b[0;34m\u001b[0m\u001b[0m\n",
      "\u001b[0;32m~/dune/dune-common/build-cmake/python/dune/generator/generator.py\u001b[0m in \u001b[0;36mpost\u001b[0;34m(self, moduleName, source)\u001b[0m\n\u001b[1;32m    115\u001b[0m         \u001b[0msource\u001b[0m \u001b[0;34m+=\u001b[0m \u001b[0;34m\"}\\n\"\u001b[0m\u001b[0;34m\u001b[0m\u001b[0;34m\u001b[0m\u001b[0m\n\u001b[1;32m    116\u001b[0m         \u001b[0msource\u001b[0m \u001b[0;34m+=\u001b[0m \u001b[0;34m'#endif'\u001b[0m\u001b[0;34m\u001b[0m\u001b[0;34m\u001b[0m\u001b[0m\n\u001b[0;32m--> 117\u001b[0;31m         \u001b[0mmodule\u001b[0m \u001b[0;34m=\u001b[0m \u001b[0mbuilder\u001b[0m\u001b[0;34m.\u001b[0m\u001b[0mload\u001b[0m\u001b[0;34m(\u001b[0m\u001b[0mmoduleName\u001b[0m\u001b[0;34m,\u001b[0m \u001b[0msource\u001b[0m\u001b[0;34m,\u001b[0m \u001b[0mself\u001b[0m\u001b[0;34m.\u001b[0m\u001b[0mtypeName\u001b[0m\u001b[0;34m[\u001b[0m\u001b[0;36m0\u001b[0m\u001b[0;34m]\u001b[0m\u001b[0;34m)\u001b[0m\u001b[0;34m\u001b[0m\u001b[0;34m\u001b[0m\u001b[0m\n\u001b[0m\u001b[1;32m    118\u001b[0m         \u001b[0;32mreturn\u001b[0m \u001b[0mmodule\u001b[0m\u001b[0;34m\u001b[0m\u001b[0;34m\u001b[0m\u001b[0m\n\u001b[1;32m    119\u001b[0m \u001b[0;34m\u001b[0m\u001b[0m\n",
      "\u001b[0;32m~/dune/dune-common/build-cmake/python/dune/generator/builder.py\u001b[0m in \u001b[0;36mload\u001b[0;34m(self, moduleName, source, pythonName)\u001b[0m\n\u001b[1;32m    142\u001b[0m                     \u001b[0;32mwith\u001b[0m \u001b[0mLock\u001b[0m\u001b[0;34m(\u001b[0m\u001b[0mos\u001b[0m\u001b[0;34m.\u001b[0m\u001b[0mpath\u001b[0m\u001b[0;34m.\u001b[0m\u001b[0mjoin\u001b[0m\u001b[0;34m(\u001b[0m\u001b[0mself\u001b[0m\u001b[0;34m.\u001b[0m\u001b[0mdune_py_dir\u001b[0m\u001b[0;34m,\u001b[0m \u001b[0;34m'lock-'\u001b[0m\u001b[0;34m+\u001b[0m\u001b[0mmoduleName\u001b[0m\u001b[0;34m+\u001b[0m\u001b[0;34m'.lock'\u001b[0m\u001b[0;34m)\u001b[0m\u001b[0;34m,\u001b[0m \u001b[0mflags\u001b[0m\u001b[0;34m=\u001b[0m\u001b[0mLOCK_EX\u001b[0m\u001b[0;34m)\u001b[0m\u001b[0;34m:\u001b[0m\u001b[0;34m\u001b[0m\u001b[0;34m\u001b[0m\u001b[0m\n\u001b[1;32m    143\u001b[0m                         \u001b[0mlogger\u001b[0m\u001b[0;34m.\u001b[0m\u001b[0mdebug\u001b[0m\u001b[0;34m(\u001b[0m\u001b[0;34m\"Now compiling \"\u001b[0m\u001b[0;34m+\u001b[0m\u001b[0mmoduleName\u001b[0m\u001b[0;34m)\u001b[0m\u001b[0;34m\u001b[0m\u001b[0;34m\u001b[0m\u001b[0m\n\u001b[0;32m--> 144\u001b[0;31m                         \u001b[0mself\u001b[0m\u001b[0;34m.\u001b[0m\u001b[0mcompile\u001b[0m\u001b[0;34m(\u001b[0m\u001b[0mmoduleName\u001b[0m\u001b[0;34m)\u001b[0m\u001b[0;34m\u001b[0m\u001b[0;34m\u001b[0m\u001b[0m\n\u001b[0m\u001b[1;32m    145\u001b[0m             \u001b[0;31m## end if module is not None\u001b[0m\u001b[0;34m\u001b[0m\u001b[0;34m\u001b[0m\u001b[0;34m\u001b[0m\u001b[0m\n\u001b[1;32m    146\u001b[0m \u001b[0;34m\u001b[0m\u001b[0m\n",
      "\u001b[0;32m~/dune/dune-common/build-cmake/python/dune/generator/builder.py\u001b[0m in \u001b[0;36mcompile\u001b[0;34m(self, target)\u001b[0m\n\u001b[1;32m     66\u001b[0m             \u001b[0mcmake_args\u001b[0m \u001b[0;34m+=\u001b[0m \u001b[0;34m[\u001b[0m\u001b[0;34m\"--\"\u001b[0m\u001b[0;34m]\u001b[0m \u001b[0;34m+\u001b[0m \u001b[0mmake_args\u001b[0m\u001b[0;34m\u001b[0m\u001b[0;34m\u001b[0m\u001b[0m\n\u001b[1;32m     67\u001b[0m         \u001b[0mcmake\u001b[0m \u001b[0;34m=\u001b[0m \u001b[0msubprocess\u001b[0m\u001b[0;34m.\u001b[0m\u001b[0mPopen\u001b[0m\u001b[0;34m(\u001b[0m\u001b[0mcmake_args\u001b[0m\u001b[0;34m,\u001b[0m \u001b[0mcwd\u001b[0m\u001b[0;34m=\u001b[0m\u001b[0mself\u001b[0m\u001b[0;34m.\u001b[0m\u001b[0mgenerated_dir\u001b[0m\u001b[0;34m,\u001b[0m \u001b[0mstdout\u001b[0m\u001b[0;34m=\u001b[0m\u001b[0msubprocess\u001b[0m\u001b[0;34m.\u001b[0m\u001b[0mPIPE\u001b[0m\u001b[0;34m,\u001b[0m \u001b[0mstderr\u001b[0m\u001b[0;34m=\u001b[0m\u001b[0msubprocess\u001b[0m\u001b[0;34m.\u001b[0m\u001b[0mPIPE\u001b[0m\u001b[0;34m)\u001b[0m\u001b[0;34m\u001b[0m\u001b[0;34m\u001b[0m\u001b[0m\n\u001b[0;32m---> 68\u001b[0;31m         \u001b[0mstdout\u001b[0m\u001b[0;34m,\u001b[0m \u001b[0mstderr\u001b[0m \u001b[0;34m=\u001b[0m \u001b[0mcmake\u001b[0m\u001b[0;34m.\u001b[0m\u001b[0mcommunicate\u001b[0m\u001b[0;34m(\u001b[0m\u001b[0;34m)\u001b[0m\u001b[0;34m\u001b[0m\u001b[0;34m\u001b[0m\u001b[0m\n\u001b[0m\u001b[1;32m     69\u001b[0m         \u001b[0mlogger\u001b[0m\u001b[0;34m.\u001b[0m\u001b[0mdebug\u001b[0m\u001b[0;34m(\u001b[0m\u001b[0;34m\"Compiler output: \"\u001b[0m\u001b[0;34m+\u001b[0m\u001b[0mbuffer_to_str\u001b[0m\u001b[0;34m(\u001b[0m\u001b[0mstdout\u001b[0m\u001b[0;34m)\u001b[0m\u001b[0;34m)\u001b[0m\u001b[0;34m\u001b[0m\u001b[0;34m\u001b[0m\u001b[0m\n\u001b[1;32m     70\u001b[0m         \u001b[0;32mif\u001b[0m \u001b[0mcmake\u001b[0m\u001b[0;34m.\u001b[0m\u001b[0mreturncode\u001b[0m \u001b[0;34m>\u001b[0m \u001b[0;36m0\u001b[0m\u001b[0;34m:\u001b[0m\u001b[0;34m\u001b[0m\u001b[0;34m\u001b[0m\u001b[0m\n",
      "\u001b[0;32m/usr/local/Cellar/python@3.9/3.9.4/Frameworks/Python.framework/Versions/3.9/lib/python3.9/subprocess.py\u001b[0m in \u001b[0;36mcommunicate\u001b[0;34m(self, input, timeout)\u001b[0m\n\u001b[1;32m   1132\u001b[0m \u001b[0;34m\u001b[0m\u001b[0m\n\u001b[1;32m   1133\u001b[0m             \u001b[0;32mtry\u001b[0m\u001b[0;34m:\u001b[0m\u001b[0;34m\u001b[0m\u001b[0;34m\u001b[0m\u001b[0m\n\u001b[0;32m-> 1134\u001b[0;31m                 \u001b[0mstdout\u001b[0m\u001b[0;34m,\u001b[0m \u001b[0mstderr\u001b[0m \u001b[0;34m=\u001b[0m \u001b[0mself\u001b[0m\u001b[0;34m.\u001b[0m\u001b[0m_communicate\u001b[0m\u001b[0;34m(\u001b[0m\u001b[0minput\u001b[0m\u001b[0;34m,\u001b[0m \u001b[0mendtime\u001b[0m\u001b[0;34m,\u001b[0m \u001b[0mtimeout\u001b[0m\u001b[0;34m)\u001b[0m\u001b[0;34m\u001b[0m\u001b[0;34m\u001b[0m\u001b[0m\n\u001b[0m\u001b[1;32m   1135\u001b[0m             \u001b[0;32mexcept\u001b[0m \u001b[0mKeyboardInterrupt\u001b[0m\u001b[0;34m:\u001b[0m\u001b[0;34m\u001b[0m\u001b[0;34m\u001b[0m\u001b[0m\n\u001b[1;32m   1136\u001b[0m                 \u001b[0;31m# https://bugs.python.org/issue25942\u001b[0m\u001b[0;34m\u001b[0m\u001b[0;34m\u001b[0m\u001b[0;34m\u001b[0m\u001b[0m\n",
      "\u001b[0;32m/usr/local/Cellar/python@3.9/3.9.4/Frameworks/Python.framework/Versions/3.9/lib/python3.9/subprocess.py\u001b[0m in \u001b[0;36m_communicate\u001b[0;34m(self, input, endtime, orig_timeout)\u001b[0m\n\u001b[1;32m   1977\u001b[0m                             'failed to raise TimeoutExpired.')\n\u001b[1;32m   1978\u001b[0m \u001b[0;34m\u001b[0m\u001b[0m\n\u001b[0;32m-> 1979\u001b[0;31m                     \u001b[0mready\u001b[0m \u001b[0;34m=\u001b[0m \u001b[0mselector\u001b[0m\u001b[0;34m.\u001b[0m\u001b[0mselect\u001b[0m\u001b[0;34m(\u001b[0m\u001b[0mtimeout\u001b[0m\u001b[0;34m)\u001b[0m\u001b[0;34m\u001b[0m\u001b[0;34m\u001b[0m\u001b[0m\n\u001b[0m\u001b[1;32m   1980\u001b[0m                     \u001b[0mself\u001b[0m\u001b[0;34m.\u001b[0m\u001b[0m_check_timeout\u001b[0m\u001b[0;34m(\u001b[0m\u001b[0mendtime\u001b[0m\u001b[0;34m,\u001b[0m \u001b[0morig_timeout\u001b[0m\u001b[0;34m,\u001b[0m \u001b[0mstdout\u001b[0m\u001b[0;34m,\u001b[0m \u001b[0mstderr\u001b[0m\u001b[0;34m)\u001b[0m\u001b[0;34m\u001b[0m\u001b[0;34m\u001b[0m\u001b[0m\n\u001b[1;32m   1981\u001b[0m \u001b[0;34m\u001b[0m\u001b[0m\n",
      "\u001b[0;32m/usr/local/Cellar/python@3.9/3.9.4/Frameworks/Python.framework/Versions/3.9/lib/python3.9/selectors.py\u001b[0m in \u001b[0;36mselect\u001b[0;34m(self, timeout)\u001b[0m\n\u001b[1;32m    414\u001b[0m         \u001b[0mready\u001b[0m \u001b[0;34m=\u001b[0m \u001b[0;34m[\u001b[0m\u001b[0;34m]\u001b[0m\u001b[0;34m\u001b[0m\u001b[0;34m\u001b[0m\u001b[0m\n\u001b[1;32m    415\u001b[0m         \u001b[0;32mtry\u001b[0m\u001b[0;34m:\u001b[0m\u001b[0;34m\u001b[0m\u001b[0;34m\u001b[0m\u001b[0m\n\u001b[0;32m--> 416\u001b[0;31m             \u001b[0mfd_event_list\u001b[0m \u001b[0;34m=\u001b[0m \u001b[0mself\u001b[0m\u001b[0;34m.\u001b[0m\u001b[0m_selector\u001b[0m\u001b[0;34m.\u001b[0m\u001b[0mpoll\u001b[0m\u001b[0;34m(\u001b[0m\u001b[0mtimeout\u001b[0m\u001b[0;34m)\u001b[0m\u001b[0;34m\u001b[0m\u001b[0;34m\u001b[0m\u001b[0m\n\u001b[0m\u001b[1;32m    417\u001b[0m         \u001b[0;32mexcept\u001b[0m \u001b[0mInterruptedError\u001b[0m\u001b[0;34m:\u001b[0m\u001b[0;34m\u001b[0m\u001b[0;34m\u001b[0m\u001b[0m\n\u001b[1;32m    418\u001b[0m             \u001b[0;32mreturn\u001b[0m \u001b[0mready\u001b[0m\u001b[0;34m\u001b[0m\u001b[0;34m\u001b[0m\u001b[0m\n",
      "\u001b[0;31mKeyboardInterrupt\u001b[0m: "
     ]
    }
   ],
   "source": [
    "from dune.grid import reader\n",
    "from dune.mmesh import mmesh, trace, skeleton, domainMarker\n",
    "from dune.fem.view import adaptiveLeafGridView as adaptive\n",
    "\n",
    "dim = 2\n",
    "file = \"grids/circle.msh\"\n",
    "\n",
    "gridView = adaptive( mmesh((reader.gmsh, file), dim) )\n",
    "hgrid = gridView.hierarchicalGrid\n",
    "igridView = adaptive( hgrid.interfaceGrid )"
   ]
  },
  {
   "cell_type": "code",
   "execution_count": null,
   "id": "peripheral-prague",
   "metadata": {},
   "outputs": [],
   "source": [
    "from dune.ufl import Constant\n",
    "\n",
    "mu0   = Constant(  5e-1, name=\"mu0\")\n",
    "mu1   = Constant(     1, name=\"mu1\")\n",
    "rho0  = Constant(     3, name=\"rho0\")\n",
    "rho1  = Constant(     1, name=\"rho1\")\n",
    "sigma = Constant(  1e-1, name=\"sigma\")\n",
    "g     = Constant(    10, name=\"g\")\n",
    "\n",
    "dt = 0.01\n",
    "T  = 3.0"
   ]
  },
  {
   "cell_type": "code",
   "execution_count": null,
   "id": "inclusive-transfer",
   "metadata": {},
   "outputs": [],
   "source": [
    "from dune.mmesh import domainMarker\n",
    "\n",
    "dm = domainMarker(gridView)\n",
    "mu  = (1-dm) * mu0  + dm * mu1\n",
    "rho = (1-dm) * rho0 + dm * rho1"
   ]
  },
  {
   "cell_type": "code",
   "execution_count": null,
   "id": "seasonal-feature",
   "metadata": {},
   "outputs": [],
   "source": [
    "from ufl import *\n",
    "from dune.fem.space import dglagrange, product\n",
    "\n",
    "uspace = dglagrange(gridView, dimRange=2, order=2)\n",
    "pspace = dglagrange(gridView, order=1)\n",
    "\n",
    "u  = TrialFunction(uspace)\n",
    "uu = TestFunction(uspace)\n",
    "\n",
    "p  = TrialFunction(pspace)\n",
    "pp = TestFunction(pspace)\n",
    "\n",
    "uh  = uspace.interpolate([0,0], name=\"velocity\")\n",
    "uh1 = uspace.interpolate([0,0], name=\"velocity1\")\n",
    "ph  = pspace.interpolate(0, name=\"pressure\")"
   ]
  },
  {
   "cell_type": "markdown",
   "id": "numerical-chassis",
   "metadata": {},
   "source": [
    "## Curvature\n",
    "\n",
    "The mean curvature of the interface times its normal can be computed by\n",
    "\\begin{align*}\n",
    "\\int_{\\Gamma(t)} \\kappa \\cdot \\phi + \\nabla x \\cdot \\nabla \\phi \\ dS = 0, &\\qquad &\\text{in } \\Gamma(t).\\\\\n",
    "\\end{align*}"
   ]
  },
  {
   "cell_type": "code",
   "execution_count": null,
   "id": "detected-charm",
   "metadata": {},
   "outputs": [],
   "source": [
    "from dune.fem.space import lagrange\n",
    "from dune.fem.scheme import galerkin\n",
    "\n",
    "kspace = lagrange(igridView, dimRange=dim, order=1)\n",
    "k  = TrialFunction(kspace)\n",
    "kk = TestFunction(kspace)\n",
    "\n",
    "curvature = kspace.interpolate([0]*dim, name=\"curvature\")\n",
    "\n",
    "ix = SpatialCoordinate(kspace)\n",
    "C  = inner(k, kk) * dx\n",
    "C -= inner(grad(ix), grad(kk)) * dx\n",
    "kscheme = galerkin([C == 0])\n",
    "res = kscheme.solve(curvature)"
   ]
  },
  {
   "cell_type": "markdown",
   "id": "invalid-relation",
   "metadata": {},
   "source": [
    "## Navier-Stokes equations\n",
    "\n",
    "As solution strategy, we use an operator split known as Chorin's method.\n",
    "Denoting $(u,v) := \\int_\\Omega u v dx$ we solve consecutively\n",
    "\n",
    "\\begin{align}\n",
    "\\renewcommand{\\jump}[1]{[\\mskip-5mu[ #1 ]\\mskip-5mu]}\n",
    "\\end{align}\n",
    "\\begin{align}\n",
    "((u^*_h - u^{n-1}_h), v) / \\tau + (\\nabla u^{n-1}_h \\cdot u^{n-1}_h, v) + (\\mu / \\rho (\\nabla u^{n}_h + (\\nabla u^{n}_h)^T), \\nabla v) &= (g, v), \\\\\n",
    "(\\nabla p^{n}_h, \\nabla q) &= -(\\rho \\nabla \\cdot u^*_h, q) / \\tau - \\int_\\Gamma (\\sigma \\kappa \\cdot n - n \\jump{(\\mu (\\nabla u^*_h + (\\nabla u^*_h)^T) )} n) \\jump{q} \\ dS, \\\\\n",
    "(u^{n}_h, v) &= (u^*_h, v) - \\tau (\\nabla p^{n}_h / \\rho, v). \\\\\n",
    "\\end{align}"
   ]
  },
  {
   "cell_type": "code",
   "execution_count": null,
   "id": "stable-collins",
   "metadata": {},
   "outputs": [],
   "source": [
    "from dune.mmesh import interfaceIndicator\n",
    "from dune.fem.scheme import galerkin\n",
    "from dune.ufl import Constant\n",
    "\n",
    "x = SpatialCoordinate(pspace)\n",
    "n = FacetNormal(pspace)\n",
    "h = FacetArea(pspace)\n",
    "I = interfaceIndicator(igridView)\n",
    "\n",
    "uBC = as_vector([0,0])\n",
    "\n",
    "tau  = Constant(dt, name=\"tau\")\n",
    "penu = Constant(1e3, name=\"penaltyu\")\n",
    "penp = Constant(1e3, name=\"penaltyp\")\n",
    "\n",
    "a1  = rho * inner(u - uh, uu) / tau * dx\n",
    "a1 += rho * inner(grad(uh) * uh, uu) * dx\n",
    "a1 += mu * inner(grad(u) + grad(u).T, grad(uu)) * dx\n",
    "a1 += rho * g * uu[1] * dx\n",
    "a1 += penu / h * inner(jump(u), jump(uu)) * dS\n",
    "a1 -= dot(dot(avg(mu * (grad(u) + grad(u).T)), n('+')), jump(uu)) * dS\n",
    "a1 += penu / h * inner(u - uBC, uu) * ds\n",
    "a1 -= dot(dot(mu * (grad(u) + grad(u).T), n), uu) * ds\n",
    "\n",
    "a2  = inner(grad(p), grad(pp)) * dx\n",
    "a2 += rho * div(uh1) * pp / tau * dx\n",
    "a2 += penp / h * jump(p) * jump(pp) * dS\n",
    "a2 -= dot(dot(avg(grad(p)), n('+')), jump(pp)) * dS\n",
    "a2 += penu / h * (p - 0) * pp * conditional(x[1] < 1e-6, 1, 0) * ds\n",
    "a2 -= dot(dot(grad(p), n), pp) * conditional(x[1] < 1e-6, 1, 0) * ds\n",
    "\n",
    "# S = sigma * inner(avg(skeleton(curvature)), n('+'))\n",
    "# S -= dot(jump(mu * (nabla_grad(uh1) + nabla_grad(uh1).T), n('+')), n('+'))\n",
    "# a2 += penp / h * S * jump(pp) * I * dS\n",
    "\n",
    "a3  = rho * inner(u - uh1, uu) * dx\n",
    "a3 += tau * inner(grad(ph), uu) * dx\n",
    "a3 += penu / h * inner(jump(u), jump(uu)) * dS\n",
    "a3 += penu / h * inner(u - uBC, uu) * ds\n",
    "\n",
    "A1 = galerkin([a1 == 0], solver=('suitesparse', 'umfpack'))\n",
    "A2 = galerkin([a2 == 0], solver=('suitesparse', 'umfpack'))\n",
    "A3 = galerkin([a3 == 0], solver=('suitesparse', 'umfpack'))"
   ]
  },
  {
   "cell_type": "markdown",
   "id": "finished-opportunity",
   "metadata": {},
   "source": [
    "## Moving\n",
    "\n",
    "We can obtain the interface movement from the trace of the bulk velocity $u$."
   ]
  },
  {
   "cell_type": "code",
   "execution_count": null,
   "id": "ready-borough",
   "metadata": {},
   "outputs": [],
   "source": [
    "import numpy as np\n",
    "\n",
    "def getShifts(uh):\n",
    "    mapper = igridView.hierarchicalGrid.leafView.indexSet\n",
    "    shifts = np.zeros((igridView.size(dim-1), dim))\n",
    "    for e in igridView.elements:\n",
    "        for v in e.subEntities(igridView.dimension):\n",
    "            x = e.geometry.toLocal(v.geometry.center)\n",
    "            shifts[ mapper.index(v) ] += 0.5 * trace(uh)(e, x)\n",
    "    return shifts"
   ]
  },
  {
   "cell_type": "markdown",
   "id": "dynamic-device",
   "metadata": {},
   "source": [
    "## Timeloop"
   ]
  },
  {
   "cell_type": "code",
   "execution_count": null,
   "id": "civil-yugoslavia",
   "metadata": {},
   "outputs": [],
   "source": [
    "from dune.fem import parameter, adapt\n",
    "parameter.append( { \"fem.adaptation.method\": \"callback\" } )\n",
    "from dune.fem.plotting import plotPointData as plot\n",
    "import matplotlib.pyplot as plt\n",
    "\n",
    "N = 4\n",
    "i = 0\n",
    "fig, axs = plt.subplots(1, N, figsize=(16,6))\n",
    "\n",
    "uh.interpolate([0,0])\n",
    "ph.interpolate(0)\n",
    "\n",
    "step = 0\n",
    "t = 0\n",
    "while t < T+dt:\n",
    "    kscheme.solve(curvature)\n",
    "\n",
    "    A1.solve(target=uh1)\n",
    "    A2.solve(target=ph)\n",
    "    A3.solve(target=uh)\n",
    "\n",
    "    hgrid.markElements()\n",
    "    hgrid.ensureInterfaceMovement( 2*dt*getShifts(uh) )\n",
    "    adapt([uh, uh1, ph, dm])\n",
    "    adapt([curvature])\n",
    "    hgrid.moveInterface( dt*getShifts(uh) )\n",
    "    \n",
    "    t += dt\n",
    "    gridView.writeVTK(\"twophase-\"+str(step), pointdata=[ph, uh], celldata=[dm], nonconforming=True)\n",
    "    igridView.writeVTK(\"interface-\"+str(step), pointdata=[curvature])\n",
    "    step += 1\n",
    "    \n",
    "    if int(N * t/T) > i:\n",
    "        plot(ph, figure=(fig, axs[i]), gridLines='black', linewidth=0.02)\n",
    "        plot(uh, figure=(fig, axs[i]), gridLines=None, vectors=[0,1])\n",
    "        i += 1"
   ]
  },
  {
   "cell_type": "code",
   "execution_count": null,
   "id": "confused-disco",
   "metadata": {},
   "outputs": [],
   "source": []
  }
 ],
 "metadata": {
  "kernelspec": {
   "display_name": "dev-env",
   "language": "python",
   "name": "dev-env"
  },
  "language_info": {
   "codemirror_mode": {
    "name": "ipython",
    "version": 3
   },
   "file_extension": ".py",
   "mimetype": "text/x-python",
   "name": "python",
   "nbconvert_exporter": "python",
   "pygments_lexer": "ipython3",
   "version": "3.9.4"
  }
 },
 "nbformat": 4,
 "nbformat_minor": 5
}
