{
 "cells": [
  {
   "cell_type": "markdown",
   "id": "12b613db",
   "metadata": {},
   "source": [
    "# Two-phase Navier-Stokes with surface tension"
   ]
  },
  {
   "cell_type": "markdown",
   "id": "382ad216",
   "metadata": {},
   "source": [
    "Let's consider the incompressible Navier-Stokes equations with two immiscible phases and surface tension.\n",
    "\n",
    "A domain $\\Omega \\subset \\mathbb{R}^2$ is assumed to be separeted into two phases $\\Omega_i(t), i=1,2,$ by a sharp interface $\\Gamma(t)$.\n",
    "\n",
    "Find $(u, p)$ and $\\Gamma(t)$ s.t.\n",
    "\\begin{align}\n",
    "\\renewcommand{\\jump}[1]{[\\mskip-5mu[ #1 ]\\mskip-5mu]}\n",
    "\\end{align}\n",
    "\\begin{align}\n",
    "\\rho u_t + \\nabla \\cdot (\\rho u \\otimes u) + \\nabla \\cdot T(u, p) &= \\rho g, &\\qquad &\\text{in } \\Omega_i(t), \\quad &i&=1,2,\\\\\n",
    "\\nabla \\cdot u &= 0, &\\qquad &\\text{in } \\Omega_i(t), \\quad &i&=1,2,\\\\\n",
    "\\jump{ T(u, p) } n &= \\sigma \\kappa \\cdot n, &\\qquad &\\text{on } \\Gamma(t),\\\\\n",
    "\\jump{u} &= 0, &\\qquad &\\text{on } \\Gamma(t),\\\\\n",
    "\\dot x &= u, &\\qquad &x \\in \\Gamma(t),\\\\\n",
    "u(0) &= u_0, &\\qquad &\\text{in } \\Omega_i(0), \\quad &i&=1,2,\\\\\n",
    "\\Gamma(0) &= \\Gamma_0.\n",
    "\\end{align}\n",
    "\n",
    "Here, $T(u, p) := p I - \\mu (\\nabla u + (\\nabla u)^T))$ is the stress tensor, $\\mu_i, i=1,2,$ are the dynamic viscositities and $\\rho_i, i=1,2,$ the densities of the two phases, $g$ is the gravity, $\\sigma$ is the surface tension and $\\kappa$ is the signed mean curvature of the interface times its normal.\n",
    "\n",
    "Now, we use Dune-MMesh to compute the result of a rising bubble. Let us consider the [circle](grids/circle.rst) grid."
   ]
  },
  {
   "cell_type": "code",
   "execution_count": null,
   "id": "9eebd939",
   "metadata": {},
   "outputs": [
    {
     "name": "stderr",
     "output_type": "stream",
     "text": [
      "DUNE-INFO: Compiling HierarchicalGrid (updated)\n"
     ]
    }
   ],
   "source": [
    "from dune.grid import reader\n",
    "from dune.mmesh import mmesh, trace, skeleton, domainMarker\n",
    "from dune.fem.view import adaptiveLeafGridView as adaptive\n",
    "\n",
    "dim = 2\n",
    "file = \"grids/circle.msh\"\n",
    "\n",
    "gridView = adaptive( mmesh((reader.gmsh, file), dim) )\n",
    "hgrid = gridView.hierarchicalGrid\n",
    "igridView = adaptive( hgrid.interfaceGrid )"
   ]
  },
  {
   "cell_type": "code",
   "execution_count": null,
   "id": "a643a63f",
   "metadata": {},
   "outputs": [],
   "source": [
    "from ufl import *\n",
    "from dune.ufl import Constant\n",
    "\n",
    "mu0   = Constant( 0.5, name=\"mu0\")\n",
    "mu1   = Constant(   1, name=\"mu1\")\n",
    "rho0  = Constant( 1.2, name=\"rho0\")\n",
    "rho1  = Constant(   1, name=\"rho1\")\n",
    "sigma = Constant(   0, name=\"sigma\")\n",
    "g_y   = Constant(  10, name=\"g_y\")\n",
    "g     = as_vector([0, -g_y])\n",
    "\n",
    "dt = 0.5\n",
    "T  = 50"
   ]
  },
  {
   "cell_type": "code",
   "execution_count": null,
   "id": "f8c9fac1",
   "metadata": {},
   "outputs": [],
   "source": [
    "from dune.mmesh import domainMarker\n",
    "\n",
    "dm = domainMarker(gridView)\n",
    "mu  = (1-dm) * mu0  + dm * mu1\n",
    "rho = (1-dm) * rho0 + dm * rho1"
   ]
  },
  {
   "cell_type": "code",
   "execution_count": null,
   "id": "f677f673",
   "metadata": {},
   "outputs": [],
   "source": [
    "from dune.fem.space import dglagrange, combined\n",
    "\n",
    "uspace = dglagrange(gridView, dimRange=2, order=2)\n",
    "pspace = dglagrange(gridView, dimRange=1, order=1)\n",
    "space = combined(uspace, pspace)\n",
    "\n",
    "trial = TrialFunction(space)\n",
    "test  = TestFunction(space)\n",
    "\n",
    "ux,  uy,  p = split(trial)\n",
    "uux, uuy, q = split(test)\n",
    "\n",
    "u = as_vector([ux,  uy ])\n",
    "v = as_vector([uux, uuy])\n",
    "\n",
    "sol = space.interpolate([0,0,0], name=\"solution\")\n",
    "solOld = space.interpolate([0,0,0], name=\"solOld\")"
   ]
  },
  {
   "cell_type": "markdown",
   "id": "913bc148",
   "metadata": {},
   "source": [
    "## Curvature\n",
    "\n",
    "The mean curvature $\\kappa$ of the interface times its normal can be computed by solving\n",
    "\\begin{align*}\n",
    "\\int_{\\Gamma} \\kappa \\cdot \\phi + \\nabla x \\cdot \\nabla \\phi \\ dS = 0, &\\qquad &\\text{in } \\Gamma(t).\\\\\n",
    "\\end{align*}"
   ]
  },
  {
   "cell_type": "code",
   "execution_count": null,
   "id": "df1c985c",
   "metadata": {},
   "outputs": [],
   "source": [
    "from dune.fem.space import lagrange\n",
    "from dune.fem.scheme import galerkin\n",
    "\n",
    "kspace = lagrange(igridView, dimRange=dim, order=1)\n",
    "k  = TrialFunction(kspace)\n",
    "kk = TestFunction(kspace)\n",
    "\n",
    "curvature = kspace.interpolate([0]*dim, name=\"curvature\")\n",
    "\n",
    "ix = SpatialCoordinate(kspace)\n",
    "C  = inner(k, kk) * dx\n",
    "C -= inner(grad(ix), grad(kk)) * dx\n",
    "kscheme = galerkin([C == 0])\n",
    "res = kscheme.solve(curvature)"
   ]
  },
  {
   "cell_type": "markdown",
   "id": "a3fec74f",
   "metadata": {},
   "source": [
    "## Navier-Stokes equations\n",
    "\n",
    "Denoting $(u,v) := \\int_\\Omega u v dx$ we simply solve\n",
    "\\begin{align}\n",
    "\\renewcommand{\\jump}[1]{[\\mskip-5mu[ #1 ]\\mskip-5mu]}\n",
    "\\renewcommand{\\avg}[1]{\\{\\mskip-5mu\\{ #1 \\}\\mskip-5mu\\}}\n",
    "\\end{align}\n",
    "\\begin{align}\n",
    "(\\rho (u^n_h - u^{n-1}_h), v) / \\tau + (\\nabla \\cdot (\\rho u^n_h \\otimes u^n_h), v) - (T(u^n_h, p^n_h), \\nabla v) + (\\nabla \\cdot u, q ) + \\int_\\Gamma \\sigma \\kappa \\cdot \\avg{v} = (\\rho g, v)\n",
    "\\end{align}\n",
    "\n",
    "and add the necessary terms for the DG discretization."
   ]
  },
  {
   "cell_type": "code",
   "execution_count": null,
   "id": "72f4d835",
   "metadata": {},
   "outputs": [],
   "source": [
    "from dune.mmesh import interfaceIndicator\n",
    "from dune.fem.scheme import galerkin\n",
    "from dune.ufl import Constant, DirichletBC\n",
    "\n",
    "x = SpatialCoordinate(space)\n",
    "n = FacetNormal(space)\n",
    "h = FacetArea(space)\n",
    "I = interfaceIndicator(igridView)\n",
    "\n",
    "uBC = as_vector([0,0])\n",
    "\n",
    "tau  = Constant(dt, name=\"tau\")\n",
    "penu = Constant(1e2, name=\"penaltyu\")\n",
    "penp = Constant(1e2, name=\"penaltyp\")\n",
    "\n",
    "uh = as_vector([sol[0], sol[1]])\n",
    "\n",
    "stress = p * Identity(2) - mu * (grad(u) + grad(u).T)\n",
    "\n",
    "# Navier-Stokes equations\n",
    "a  = rho * inner(u - uh, v) / tau * dx\n",
    "a += inner(div(outer(rho * u, u)), v) * dx\n",
    "a -= inner(stress, grad(v)) * dx\n",
    "a += inner(div(u), q) * dx\n",
    "\n",
    "b = inner(rho * g, v) * dx\n",
    "\n",
    "# continuity and boundary conditions\n",
    "a += penu / h * inner(jump(u), jump(v)) * dS\n",
    "a += penu / h * inner(u - uBC, v) * ds\n",
    "a += penp / h * jump(p) * jump(q) * (1-I)*dS\n",
    "\n",
    "# consistency terms\n",
    "a += dot(dot(avg(stress), n('+')), jump(v)) * dS\n",
    "a += dot(dot(stress, n), v) * ds\n",
    "\n",
    "# surface tension adds jump in p at the interface \n",
    "kappa = avg(skeleton(curvature))\n",
    "a += dot(sigma * kappa, avg(v)) * I*dS\n",
    "\n",
    "A = galerkin([a == b], solver=('suitesparse', 'umfpack'))"
   ]
  },
  {
   "cell_type": "markdown",
   "id": "8f1af7ca",
   "metadata": {},
   "source": [
    "## Moving\n",
    "\n",
    "We can obtain the interface movement from the trace of the bulk velocity $u$."
   ]
  },
  {
   "cell_type": "code",
   "execution_count": null,
   "id": "96c29bf5",
   "metadata": {},
   "outputs": [],
   "source": [
    "import numpy as np\n",
    "\n",
    "def getShifts():\n",
    "    mapper = gridView.hierarchicalGrid.leafView.indexSet\n",
    "    shifts = np.zeros((gridView.size(dim), dim))\n",
    "    for e in gridView.elements:\n",
    "        for v in e.subEntities(dim):\n",
    "            x = e.geometry.toLocal(v.geometry.center)\n",
    "            u = sol(e, x)\n",
    "            shifts[ mapper.index(v) ] = [u[0], u[1]]\n",
    "    return shifts\n",
    "\n",
    "def h(u, n):\n",
    "    sgn = inner(uh('+'), n('+'))\n",
    "    return conditional( sgn < 0, sgn * u('+'), sgn * u('-') )\n",
    "\n",
    "detPsi = abs(det(nabla_grad(x + tau * uh)))\n",
    "\n",
    "am = inner(trial * detPsi - solOld, test) * dx\n",
    "am += tau * inner(outer(trial, uh), grad(test)) * dx\n",
    "am -= tau * inner(h(trial, n), jump(test)) * dS\n",
    "\n",
    "Am = galerkin([am == 0], solver=('suitesparse', 'umfpack'))"
   ]
  },
  {
   "cell_type": "markdown",
   "id": "aa6d0ca2",
   "metadata": {},
   "source": [
    "## Timeloop"
   ]
  },
  {
   "cell_type": "code",
   "execution_count": null,
   "id": "4cbd1b81",
   "metadata": {
    "scrolled": true
   },
   "outputs": [],
   "source": [
    "from dune.fem import parameter, adapt\n",
    "parameter.append( { \"fem.adaptation.method\": \"callback\" } )\n",
    "from dune.fem.plotting import plotPointData as plot\n",
    "import matplotlib.pyplot as plt\n",
    "\n",
    "N = 4\n",
    "i = 0\n",
    "fig, axs = plt.subplots(1, N, figsize=(16,6))\n",
    "\n",
    "sol.interpolate([0,0,0])\n",
    "solOld.interpolate([0,0,0])\n",
    "\n",
    "step = 0\n",
    "t = 0\n",
    "while t < T+dt:\n",
    "    kscheme.solve(curvature)\n",
    "    A.solve(target=sol)\n",
    "\n",
    "    gridView.writeVTK(\"twophase-\"+str(step), pointdata={\"ph\": sol[2], \"uh\": uh},\n",
    "                      celldata=[dm], nonconforming=True)\n",
    "    igridView.writeVTK(\"interface-\"+str(step), pointdata=[curvature])\n",
    "    step += 1\n",
    "    if int(N * t/T) > i:\n",
    "        plot(sol[2], figure=(fig, axs[i]), gridLines='black', linewidth=0.02, colorbar=None)\n",
    "        plot(sol, figure=(fig, axs[i]), gridLines=None, vectors=[0,1])\n",
    "        i += 1\n",
    "        \n",
    "    hgrid.markElements()\n",
    "    adapt([sol, solOld, dm])\n",
    "    adapt([curvature])\n",
    "\n",
    "    sol.interpolate([sol[0], sol[1], 0])\n",
    "    solOld.assign(sol)\n",
    "    Am.solve(target=sol)\n",
    "    solOld.assign(sol)\n",
    "    hgrid.moveVertices( dt*getShifts() )\n",
    "    \n",
    "    t += dt"
   ]
  },
  {
   "cell_type": "code",
   "execution_count": null,
   "id": "a84629a8",
   "metadata": {},
   "outputs": [],
   "source": []
  }
 ],
 "metadata": {
  "kernelspec": {
   "display_name": "dev-env",
   "language": "python",
   "name": "dev-env"
  },
  "language_info": {
   "codemirror_mode": {
    "name": "ipython",
    "version": 3
   },
   "file_extension": ".py",
   "mimetype": "text/x-python",
   "name": "python",
   "nbconvert_exporter": "python",
   "pygments_lexer": "ipython3",
   "version": "3.9.4"
  }
 },
 "nbformat": 4,
 "nbformat_minor": 5
}
