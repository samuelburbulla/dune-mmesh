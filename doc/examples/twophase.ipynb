{
 "cells": [
  {
   "cell_type": "markdown",
   "id": "median-focus",
   "metadata": {},
   "source": [
    "# Two-phase flow"
   ]
  },
  {
   "cell_type": "code",
   "execution_count": 1,
   "id": "minimal-serum",
   "metadata": {},
   "outputs": [],
   "source": [
    "from dune.grid import reader\n",
    "from dune.mmesh import mmesh, trace, skeleton, domainMarker\n",
    "from dune.fem.view import adaptiveLeafGridView as adaptive\n",
    "\n",
    "dim = 2\n",
    "file = \"grids/circle.msh\"\n",
    "\n",
    "gridView = adaptive( mmesh((reader.gmsh, file), dim) )\n",
    "hgrid = gridView.hierarchicalGrid\n",
    "igridView = adaptive( hgrid.interfaceGrid )"
   ]
  },
  {
   "cell_type": "code",
   "execution_count": 2,
   "id": "proud-redhead",
   "metadata": {},
   "outputs": [],
   "source": [
    "from dune.ufl import Constant\n",
    "\n",
    "nu0   = Constant(1e-4, name=\"nu0\")\n",
    "nu1   = Constant(1e-4, name=\"nu1\")\n",
    "\n",
    "rho0  = Constant(1, name=\"rho0\")\n",
    "rho1  = Constant(0.1, name=\"rho1\")\n",
    "\n",
    "grav  = [0, -9.81]\n",
    "# sigma = 1e-2\n",
    "\n",
    "dt = 0.005\n",
    "T  = 1.0"
   ]
  },
  {
   "cell_type": "code",
   "execution_count": 3,
   "id": "secure-satin",
   "metadata": {},
   "outputs": [],
   "source": [
    "from dune.mmesh import domainMarker\n",
    "\n",
    "dm = domainMarker(gridView)\n",
    "nu  = (1-dm) * nu0  + dm * nu1\n",
    "rho = (1-dm) * rho0 + dm * rho1"
   ]
  },
  {
   "cell_type": "code",
   "execution_count": 4,
   "id": "cheap-interest",
   "metadata": {},
   "outputs": [],
   "source": [
    "from ufl import *\n",
    "from dune.fem.space import dglagrange, product\n",
    "\n",
    "uspace = dglagrange(gridView, dimRange=2, order=2)\n",
    "pspace = dglagrange(gridView, order=1)\n",
    "\n",
    "u  = TrialFunction(uspace)\n",
    "uu = TestFunction(uspace)\n",
    "\n",
    "p  = TrialFunction(pspace)\n",
    "pp = TestFunction(pspace)\n",
    "\n",
    "uh  = uspace.interpolate([0,0], name=\"velocity\")\n",
    "uh1 = uspace.interpolate([0,0], name=\"velocity1\")\n",
    "ph  = pspace.interpolate(0, name=\"pressure\")"
   ]
  },
  {
   "cell_type": "markdown",
   "id": "alive-immigration",
   "metadata": {},
   "source": [
    "## Curvature"
   ]
  },
  {
   "cell_type": "code",
   "execution_count": 5,
   "id": "personal-reason",
   "metadata": {},
   "outputs": [],
   "source": [
    "from dune.fem.space import lagrange\n",
    "from dune.fem.scheme import galerkin\n",
    "\n",
    "kspace = lagrange(igridView, dimRange=dim, order=1)\n",
    "k  = TrialFunction(kspace)\n",
    "kk = TestFunction(kspace)\n",
    "\n",
    "curvature = kspace.interpolate([0]*dim, name=\"curvature\")\n",
    "\n",
    "ix = SpatialCoordinate(kspace)\n",
    "C  = inner(k, kk) * dx\n",
    "C -= inner(grad(ix), grad(kk)) * dx\n",
    "kscheme = galerkin([C == 0])"
   ]
  },
  {
   "cell_type": "markdown",
   "id": "nasty-square",
   "metadata": {},
   "source": [
    "## Navier-Stokes equations"
   ]
  },
  {
   "cell_type": "code",
   "execution_count": 6,
   "id": "brutal-bernard",
   "metadata": {},
   "outputs": [],
   "source": [
    "from dune.fem.scheme import galerkin\n",
    "from dune.ufl import Constant, DirichletBC\n",
    "\n",
    "x = SpatialCoordinate(pspace)\n",
    "n = FacetNormal(pspace)\n",
    "uBC = as_vector([0,0])\n",
    "\n",
    "tau = Constant(dt, name=\"tau\")\n",
    "penu = Constant(1e6, name=\"penaltyu\")\n",
    "penp = Constant(1e3, name=\"penaltyp\")\n",
    "\n",
    "f  = rho * as_vector(grav)\n",
    "# f += sigma * avg(skeleton(curvature))\n",
    "\n",
    "# Chorin's method\n",
    "a1  = inner(u - uh, uu) / tau * dx\n",
    "a1 += inner(grad(uh) * uh, uu) * dx\n",
    "a1 += nu * inner(grad(uh), grad(uu)) * dx\n",
    "a1 -= inner(f, uu) * dx\n",
    "a1 += penu * inner(jump(u), jump(uu)) * dS\n",
    "a1 += penu * inner(u - uBC, uu) * ds\n",
    "\n",
    "a2  = inner(grad(p), grad(pp)) * dx\n",
    "a2 += div(uh1) * pp / tau * dx\n",
    "a2 += penp * jump(p) * jump(pp) * dS\n",
    "a2 -= jump(p ) * inner(avg(grad(pp)), n('+')) * dS\n",
    "a2 -= jump(pp) * inner(avg(grad(p )), n('+')) * dS\n",
    "a2 += 1e-6 * p * pp * dx\n",
    "\n",
    "a3  = inner(u - uh1, uu) * dx\n",
    "a3 += tau * inner(grad(ph), uu) * dx\n",
    "a3 += penu * inner(jump(u), jump(uu)) * dS\n",
    "a3 += penu * inner(u - uBC, uu) * ds\n",
    "\n",
    "A1 = galerkin([a1 == 0], solver=('suitesparse', 'umfpack'))\n",
    "A2 = galerkin([a2 == 0], solver=('suitesparse', 'umfpack'))\n",
    "A3 = galerkin([a3 == 0], solver=('suitesparse', 'umfpack'))"
   ]
  },
  {
   "cell_type": "markdown",
   "id": "alleged-israel",
   "metadata": {},
   "source": [
    "## Moving mesh"
   ]
  },
  {
   "cell_type": "code",
   "execution_count": 7,
   "id": "swedish-phenomenon",
   "metadata": {},
   "outputs": [],
   "source": [
    "from dune.mmesh import edgeMovement\n",
    "from dune.geometry import vertex\n",
    "import numpy as np\n",
    "\n",
    "trUh = trace(uh)\n",
    "def getShifts():\n",
    "    mapper = igridView.mapper({vertex: 1})\n",
    "    shifts = np.zeros((mapper.size, dim))\n",
    "    for e in igridView.elements:\n",
    "        for v in e.subEntities(igridView.dimension):\n",
    "            shifts[ mapper.index(v) ] = trUh(e, v.geometry.center)\n",
    "    return shifts\n",
    "\n",
    "em = edgeMovement(gridView, getShifts())\n",
    "detPsi = abs(det(nabla_grad(x + tau * em)))\n",
    "\n",
    "def h(u, n):\n",
    "    sgn = inner(em('+'), n('+'))\n",
    "    return conditional( sgn > 0, sgn * u('+'), sgn * u('-') )\n",
    "\n",
    "m1  = inner(u * detPsi - uh1, uu) * dx\n",
    "m1 += dot(em, dot(u, grad(uu))) * dx\n",
    "m1 -= tau * inner(h(u, n), jump(uu)) * dS\n",
    "\n",
    "M1 = galerkin([m1 == 0], solver=('suitesparse', 'umfpack'))"
   ]
  },
  {
   "cell_type": "markdown",
   "id": "greater-sugar",
   "metadata": {},
   "source": [
    "## Timeloop"
   ]
  },
  {
   "cell_type": "code",
   "execution_count": null,
   "id": "contained-enzyme",
   "metadata": {},
   "outputs": [
    {
     "name": "stdout",
     "output_type": "stream",
     "text": [
      "t = 0.000\n",
      "t = 0.005\n",
      "t = 0.010\n",
      "t = 0.015\n",
      "t = 0.020\n",
      "t = 0.025\n",
      "t = 0.030\n",
      "t = 0.035\n",
      "t = 0.040\n",
      "t = 0.045\n",
      "t = 0.050\n",
      "t = 0.055\n",
      "t = 0.060\n",
      "t = 0.065\n",
      "t = 0.070\n",
      "t = 0.075\n",
      "t = 0.080\n",
      "t = 0.085\n",
      "t = 0.090\n",
      "t = 0.095\n",
      "t = 0.100\n",
      "t = 0.105\n",
      "t = 0.110\n",
      "t = 0.115\n",
      "t = 0.120\n",
      "t = 0.125\n",
      "t = 0.130\n",
      "t = 0.135\n",
      "t = 0.140\n",
      "t = 0.145\n",
      "t = 0.150\n",
      "t = 0.155\n",
      "t = 0.160\n",
      "t = 0.165\n"
     ]
    }
   ],
   "source": [
    "from dune.fem import parameter, adapt\n",
    "parameter.append( { \"fem.adaptation.method\": \"callback\" } )\n",
    "from dune.fem.plotting import plotPointData as plot\n",
    "import matplotlib.pyplot as plt\n",
    "from dune.mmesh import interfaceIndicator\n",
    "\n",
    "N = 4\n",
    "i = 0\n",
    "fig, axs = plt.subplots(1, N, figsize=(16,6))\n",
    "\n",
    "uh.interpolate([0,0])\n",
    "ph.interpolate(0)\n",
    "\n",
    "step = 0\n",
    "t = 0\n",
    "while t <= T:\n",
    "    kscheme.solve(curvature)\n",
    "\n",
    "    A1.solve(target=uh1)\n",
    "    A2.solve(target=ph)\n",
    "    A3.solve(target=uh)\n",
    "\n",
    "    hgrid.markElements()\n",
    "    hgrid.ensureInterfaceMovement( 20*dt*getShifts() )\n",
    "    adapt([uh, uh1, ph, dm])\n",
    "    \n",
    "#     uh1.assign(uh)\n",
    "#     M1.solve(target=uh)\n",
    "#     hgrid.moveInterface( dt*getShifts() )\n",
    "    \n",
    "    print(\"t =\", \"{:.3f}\".format(t))\n",
    "    t += dt\n",
    "    \n",
    "    gridView.writeVTK(\"twophase-\"+str(step), pointdata=[ph, uh, uh1], celldata=[dm], nonconforming=True)\n",
    "    igridView.writeVTK(\"interface-\"+str(step), pointdata=[curvature])\n",
    "    step += 1\n",
    "    \n",
    "\n",
    "    if int(N * t/T) > i:\n",
    "        plot(ph, figure=(fig, axs[i]), gridLines=None)\n",
    "        plot(uh, figure=(fig, axs[i]), gridLines=None, vectors=[0,1])\n",
    "        i += 1"
   ]
  },
  {
   "cell_type": "code",
   "execution_count": null,
   "id": "arabic-expansion",
   "metadata": {},
   "outputs": [],
   "source": []
  }
 ],
 "metadata": {
  "kernelspec": {
   "display_name": "dev-env",
   "language": "python",
   "name": "dev-env"
  },
  "language_info": {
   "codemirror_mode": {
    "name": "ipython",
    "version": 3
   },
   "file_extension": ".py",
   "mimetype": "text/x-python",
   "name": "python",
   "nbconvert_exporter": "python",
   "pygments_lexer": "ipython3",
   "version": "3.9.1"
  }
 },
 "nbformat": 4,
 "nbformat_minor": 5
}
