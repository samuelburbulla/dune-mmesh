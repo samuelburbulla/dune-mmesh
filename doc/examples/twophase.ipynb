{
 "cells": [
  {
   "cell_type": "markdown",
   "id": "special-yorkshire",
   "metadata": {},
   "source": [
    "# [Draft] Two-phase flow"
   ]
  },
  {
   "cell_type": "code",
   "execution_count": 1,
   "id": "offshore-thomson",
   "metadata": {},
   "outputs": [],
   "source": [
    "from dune.grid import reader\n",
    "from dune.mmesh import mmesh, trace, skeleton, domainMarker\n",
    "from dune.fem.view import adaptiveLeafGridView as adaptive\n",
    "\n",
    "dim = 2\n",
    "file = \"grids/circle.msh\"\n",
    "\n",
    "gridView = adaptive( mmesh((reader.gmsh, file), dim) )\n",
    "hgrid = gridView.hierarchicalGrid\n",
    "igridView = adaptive( hgrid.interfaceGrid )"
   ]
  },
  {
   "cell_type": "code",
   "execution_count": 2,
   "id": "brown-marsh",
   "metadata": {},
   "outputs": [],
   "source": [
    "from dune.ufl import Constant\n",
    "\n",
    "nu0   = Constant(1e2, name=\"nu0\")\n",
    "nu1   = Constant(1e2, name=\"nu1\")\n",
    "sigma = Constant(1e-2, name=\"sigma\")\n",
    "\n",
    "dt = 0.01\n",
    "T  = 1.0"
   ]
  },
  {
   "cell_type": "code",
   "execution_count": 3,
   "id": "constitutional-professor",
   "metadata": {},
   "outputs": [],
   "source": [
    "from dune.mmesh import domainMarker\n",
    "\n",
    "dm = domainMarker(gridView)\n",
    "nu  = (1-dm) * nu0  + dm * nu1"
   ]
  },
  {
   "cell_type": "code",
   "execution_count": 4,
   "id": "pleasant-possession",
   "metadata": {},
   "outputs": [],
   "source": [
    "from ufl import *\n",
    "from dune.fem.space import dglagrange, product\n",
    "\n",
    "uspace = dglagrange(gridView, dimRange=2, order=2)\n",
    "pspace = dglagrange(gridView, order=1)\n",
    "\n",
    "u  = TrialFunction(uspace)\n",
    "uu = TestFunction(uspace)\n",
    "\n",
    "p  = TrialFunction(pspace)\n",
    "pp = TestFunction(pspace)\n",
    "\n",
    "uh  = uspace.interpolate([0,0], name=\"velocity\")\n",
    "uh1 = uspace.interpolate([0,0], name=\"velocity1\")\n",
    "ph  = pspace.interpolate(0, name=\"pressure\")"
   ]
  },
  {
   "cell_type": "markdown",
   "id": "damaged-perth",
   "metadata": {},
   "source": [
    "## Curvature"
   ]
  },
  {
   "cell_type": "code",
   "execution_count": 5,
   "id": "returning-buying",
   "metadata": {},
   "outputs": [],
   "source": [
    "from dune.fem.space import lagrange\n",
    "from dune.fem.scheme import galerkin\n",
    "\n",
    "kspace = lagrange(igridView, dimRange=dim, order=1)\n",
    "k  = TrialFunction(kspace)\n",
    "kk = TestFunction(kspace)\n",
    "\n",
    "curvature = kspace.interpolate([0]*dim, name=\"curvature\")\n",
    "\n",
    "ix = SpatialCoordinate(kspace)\n",
    "C  = inner(k, kk) * dx\n",
    "C -= inner(grad(ix), grad(kk)) * dx\n",
    "kscheme = galerkin([C == 0])\n",
    "res = kscheme.solve(curvature)"
   ]
  },
  {
   "cell_type": "markdown",
   "id": "intelligent-lightweight",
   "metadata": {},
   "source": [
    "## Navier-Stokes equations"
   ]
  },
  {
   "cell_type": "code",
   "execution_count": 6,
   "id": "crude-scale",
   "metadata": {},
   "outputs": [],
   "source": [
    "from dune.mmesh import interfaceIndicator, normals\n",
    "from dune.fem.scheme import galerkin\n",
    "from dune.ufl import Constant, DirichletBC\n",
    "\n",
    "x = SpatialCoordinate(pspace)\n",
    "n = FacetNormal(pspace)\n",
    "I = interfaceIndicator(igridView)\n",
    "n_I = normals(igridView)\n",
    "\n",
    "uBC = as_vector([0,0])\n",
    "pBC = 0\n",
    "\n",
    "tau  = Constant(dt, name=\"tau\")\n",
    "penu = Constant(1e3, name=\"penaltyu\")\n",
    "penp = Constant(1e3, name=\"penaltyp\")\n",
    "\n",
    "# Chorin's method\n",
    "a1  = inner(u - uh, uu) / tau * dx\n",
    "a1 += inner(grad(uh) * uh, uu) * dx\n",
    "a1 += nu * inner(grad(u), grad(uu)) * dx\n",
    "# a1 -= uu[1] * dx\n",
    "a1 += penu * inner(jump(u), jump(uu)) * dS\n",
    "a1 += penu * inner(u - uBC, uu) * ds\n",
    "\n",
    "a2  = inner(grad(p), grad(pp)) * dx\n",
    "a2 += div(uh1) * pp / tau * dx\n",
    "a2 += penp * jump(p) * jump(pp) * dS\n",
    "a2 += penp * (p - pBC) * pp * conditional(x[1]<1e-6, 1, 0) * ds\n",
    "\n",
    "S = sigma * inner(avg(skeleton(curvature)), n('+'))\n",
    "a2 -= penp * S * jump(pp) * I * dS\n",
    "\n",
    "a3  = inner(u - uh1, uu) * dx\n",
    "a3 += tau * inner(grad(ph), uu) * dx\n",
    "a3 += penu * inner(jump(u), jump(uu)) * dS\n",
    "a3 += penu * inner(u - uBC, uu) * ds\n",
    "\n",
    "A1 = galerkin([a1 == 0], solver=('suitesparse', 'umfpack'))\n",
    "A2 = galerkin([a2 == 0], solver=('suitesparse', 'umfpack'))\n",
    "A3 = galerkin([a3 == 0], solver=('suitesparse', 'umfpack'))"
   ]
  },
  {
   "cell_type": "markdown",
   "id": "removed-modification",
   "metadata": {},
   "source": [
    "## Moving mesh"
   ]
  },
  {
   "cell_type": "code",
   "execution_count": 7,
   "id": "turned-definition",
   "metadata": {},
   "outputs": [],
   "source": [
    "from dune.mmesh import edgeMovement\n",
    "from dune.geometry import vertex\n",
    "import numpy as np\n",
    "\n",
    "trUh = trace(uh)\n",
    "def getShifts(mapper):\n",
    "    shifts = np.zeros((mapper.size, dim))\n",
    "    for e in igridView.elements:\n",
    "        for v in e.subEntities(igridView.dimension):\n",
    "            x = e.geometry.toLocal(v.geometry.center)\n",
    "            shifts[ mapper.index(v) ] += 0.5 * trUh(e, x)\n",
    "    return shifts\n",
    "\n",
    "mapper = igridView.mapper({vertex: 1})\n",
    "em = edgeMovement(gridView, getShifts(mapper))"
   ]
  },
  {
   "cell_type": "markdown",
   "id": "facial-temple",
   "metadata": {},
   "source": [
    "## Timeloop"
   ]
  },
  {
   "cell_type": "code",
   "execution_count": null,
   "id": "former-allen",
   "metadata": {},
   "outputs": [
    {
     "name": "stdout",
     "output_type": "stream",
     "text": [
      "t = 0.00\n"
     ]
    }
   ],
   "source": [
    "from dune.fem import parameter, adapt\n",
    "parameter.append( { \"fem.adaptation.method\": \"callback\" } )\n",
    "from dune.fem.plotting import plotPointData as plot\n",
    "import matplotlib.pyplot as plt\n",
    "\n",
    "N = 4\n",
    "i = 0\n",
    "fig, axs = plt.subplots(1, N, figsize=(16,6))\n",
    "\n",
    "uh.interpolate([0,0])\n",
    "ph.interpolate(0)\n",
    "\n",
    "step = 0\n",
    "t = 0\n",
    "while t < T+dt:\n",
    "    kscheme.solve(curvature)\n",
    "\n",
    "    A1.solve(target=uh1)\n",
    "    A2.solve(target=ph)\n",
    "    A3.solve(target=uh)\n",
    "\n",
    "    hgrid.markElements()\n",
    "    while hgrid.ensureInterfaceMovement( 3*dt*getShifts(mapper) ):\n",
    "        pass\n",
    "    adapt([uh, uh1, ph, dm])\n",
    "    mapper = igridView.mapper({vertex: 1})\n",
    "    hgrid.moveInterface( dt*getShifts(mapper) )\n",
    "    \n",
    "    print(\"t =\", \"{:.2f}\".format(t))\n",
    "    t += dt\n",
    "    \n",
    "    gridView.writeVTK(\"twophase-\"+str(step), pointdata=[ph, uh], nonconforming=True)\n",
    "    igridView.writeVTK(\"interface-\"+str(step), pointdata=[curvature])\n",
    "    step += 1\n",
    "    \n",
    "    if int(N * t/T) > i:\n",
    "        plot(ph, figure=(fig, axs[i]), gridLines=None)\n",
    "        plot(uh, figure=(fig, axs[i]), gridLines=None, vectors=[0,1])\n",
    "        i += 1"
   ]
  }
 ],
 "metadata": {
  "kernelspec": {
   "display_name": "dev-env",
   "language": "python",
   "name": "dev-env"
  },
  "language_info": {
   "codemirror_mode": {
    "name": "ipython",
    "version": 3
   },
   "file_extension": ".py",
   "mimetype": "text/x-python",
   "name": "python",
   "nbconvert_exporter": "python",
   "pygments_lexer": "ipython3",
   "version": "3.9.1"
  }
 },
 "nbformat": 4,
 "nbformat_minor": 5
}
