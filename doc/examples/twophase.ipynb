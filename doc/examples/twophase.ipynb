{
 "cells": [
  {
   "cell_type": "markdown",
   "id": "special-yorkshire",
   "metadata": {},
   "source": [
    "# [Draft] Two-phase flow"
   ]
  },
  {
   "cell_type": "code",
   "execution_count": 1,
   "id": "offshore-thomson",
   "metadata": {},
   "outputs": [],
   "source": [
    "from dune.grid import reader\n",
    "from dune.mmesh import mmesh, trace, skeleton, domainMarker\n",
    "from dune.fem.view import adaptiveLeafGridView as adaptive\n",
    "\n",
    "dim = 2\n",
    "file = \"grids/circle.msh\"\n",
    "\n",
    "gridView = adaptive( mmesh((reader.gmsh, file), dim) )\n",
    "hgrid = gridView.hierarchicalGrid\n",
    "igridView = adaptive( hgrid.interfaceGrid )"
   ]
  },
  {
   "cell_type": "code",
   "execution_count": 2,
   "id": "brown-marsh",
   "metadata": {},
   "outputs": [],
   "source": [
    "from dune.ufl import Constant\n",
    "\n",
    "nu0   = Constant(1e-2, name=\"nu0\")\n",
    "nu1   = Constant(1e-2, name=\"nu1\")\n",
    "\n",
    "rho0  = Constant(1, name=\"rho0\")\n",
    "rho1  = Constant(0.9, name=\"rho1\")\n",
    "\n",
    "grav  = [0, -9.81]\n",
    "sigma = Constant(1e-2, name=\"sigma\")\n",
    "\n",
    "dt = 0.01\n",
    "T  = 1.0"
   ]
  },
  {
   "cell_type": "code",
   "execution_count": 3,
   "id": "constitutional-professor",
   "metadata": {},
   "outputs": [],
   "source": [
    "from dune.mmesh import domainMarker\n",
    "\n",
    "dm = domainMarker(gridView)\n",
    "nu  = (1-dm) * nu0  + dm * nu1\n",
    "rho = (1-dm) * rho0 + dm * rho1"
   ]
  },
  {
   "cell_type": "code",
   "execution_count": 4,
   "id": "pleasant-possession",
   "metadata": {},
   "outputs": [],
   "source": [
    "from ufl import *\n",
    "from dune.fem.space import dglagrange, product\n",
    "\n",
    "uspace = dglagrange(gridView, dimRange=2, order=2)\n",
    "pspace = dglagrange(gridView, order=1)\n",
    "\n",
    "u  = TrialFunction(uspace)\n",
    "uu = TestFunction(uspace)\n",
    "\n",
    "p  = TrialFunction(pspace)\n",
    "pp = TestFunction(pspace)\n",
    "\n",
    "uh  = uspace.interpolate([0,0], name=\"velocity\")\n",
    "uh1 = uspace.interpolate([0,0], name=\"velocity1\")\n",
    "ph  = pspace.interpolate(0, name=\"pressure\")"
   ]
  },
  {
   "cell_type": "markdown",
   "id": "damaged-perth",
   "metadata": {},
   "source": [
    "## Curvature"
   ]
  },
  {
   "cell_type": "code",
   "execution_count": 5,
   "id": "returning-buying",
   "metadata": {},
   "outputs": [
    {
     "data": {
      "text/plain": [
       "{'converged': True, 'iterations': 1, 'linear_iterations': 1}"
      ]
     },
     "execution_count": 5,
     "metadata": {},
     "output_type": "execute_result"
    }
   ],
   "source": [
    "from dune.fem.space import lagrange\n",
    "from dune.fem.scheme import galerkin\n",
    "\n",
    "kspace = lagrange(igridView, dimRange=dim, order=1)\n",
    "k  = TrialFunction(kspace)\n",
    "kk = TestFunction(kspace)\n",
    "\n",
    "curvature = kspace.interpolate([0]*dim, name=\"curvature\")\n",
    "\n",
    "ix = SpatialCoordinate(kspace)\n",
    "C  = inner(k, kk) * dx\n",
    "C -= inner(grad(ix), grad(kk)) * dx\n",
    "kscheme = galerkin([C == 0])\n",
    "\n",
    "kscheme.solve(curvature)"
   ]
  },
  {
   "cell_type": "markdown",
   "id": "intelligent-lightweight",
   "metadata": {},
   "source": [
    "## Navier-Stokes equations"
   ]
  },
  {
   "cell_type": "code",
   "execution_count": 6,
   "id": "crude-scale",
   "metadata": {},
   "outputs": [],
   "source": [
    "from dune.mmesh import interfaceIndicator, normals\n",
    "from dune.fem.scheme import galerkin\n",
    "from dune.ufl import Constant, DirichletBC\n",
    "\n",
    "x = SpatialCoordinate(pspace)\n",
    "n = FacetNormal(pspace)\n",
    "I = interfaceIndicator(igridView)\n",
    "n_I = normals(igridView)\n",
    "\n",
    "uBC = as_vector([0, 0])\n",
    "\n",
    "tau = Constant(dt, name=\"tau\")\n",
    "penu = Constant(1e6, name=\"penaltyu\")\n",
    "penp = Constant(1e6, name=\"penaltyp\")\n",
    "\n",
    "f  = rho * as_vector(grav)\n",
    "\n",
    "# Chorin's method\n",
    "a1  = rho * inner(u - uh, uu) / tau * dx\n",
    "a1 += rho * inner(grad(uh) * uh, uu) * dx\n",
    "a1 += nu * inner(grad(u), grad(uu)) * dx\n",
    "a1 -= inner(f, uu) * dx\n",
    "a1 += penu * inner(jump(u), jump(uu)) * dS\n",
    "a1 += penu * inner(u - uBC, uu) * ds\n",
    "\n",
    "a2  = inner(grad(p), grad(pp)) * dx\n",
    "a2 += rho * div(uh1) * pp / tau * dx\n",
    "a2 += penp * jump(p) * jump(pp) * dS\n",
    "a2 -= jump(pp) * dot(avg(grad(p )), n('+')) * dS\n",
    "a2 -= jump(p ) * dot(avg(grad(pp)), n('+')) * dS\n",
    "a2 += 1e-3 * p * pp * dx\n",
    "\n",
    "symG = nabla_grad(uh) + nabla_grad(uh).T\n",
    "S = dot(n('+'), dot(jump(nu * symG), n('+')))\n",
    "S += sigma * inner(avg(skeleton(curvature)), n('+'))\n",
    "a2 -= penu * S * jump(pp) * I * dS\n",
    "a2 += S * dot(avg(grad(pp)), n('+')) * dS\n",
    "\n",
    "\n",
    "a3  = rho * inner(u - uh1, uu) * dx\n",
    "a3 += tau * inner(grad(ph), uu) * dx\n",
    "a3 += penu * inner(jump(u), jump(uu)) * dS\n",
    "a3 += penu * inner(u - uBC, uu) * ds\n",
    "\n",
    "A1 = galerkin([a1 == 0], solver=('suitesparse', 'umfpack'))\n",
    "A2 = galerkin([a2 == 0], solver=('suitesparse', 'umfpack'))\n",
    "A3 = galerkin([a3 == 0], solver=('suitesparse', 'umfpack'))"
   ]
  },
  {
   "cell_type": "markdown",
   "id": "removed-modification",
   "metadata": {},
   "source": [
    "## Moving mesh"
   ]
  },
  {
   "cell_type": "code",
   "execution_count": 7,
   "id": "turned-definition",
   "metadata": {},
   "outputs": [],
   "source": [
    "from dune.mmesh import edgeMovement\n",
    "from dune.geometry import vertex\n",
    "import numpy as np\n",
    "\n",
    "trUh = trace(uh)\n",
    "def getShifts():\n",
    "    mapper = igridView.mapper({vertex: 1})\n",
    "    shifts = np.zeros((mapper.size, dim))\n",
    "    for e in igridView.elements:\n",
    "        for v in e.subEntities(igridView.dimension):\n",
    "            x = e.geometry.toLocal(v.geometry.center)\n",
    "            shifts[ mapper.index(v) ] += 0.5 * trUh(e, x)\n",
    "    return shifts\n",
    "\n",
    "em = edgeMovement(gridView, getShifts())"
   ]
  },
  {
   "cell_type": "markdown",
   "id": "facial-temple",
   "metadata": {},
   "source": [
    "## Timeloop"
   ]
  },
  {
   "cell_type": "code",
   "execution_count": 8,
   "id": "former-allen",
   "metadata": {},
   "outputs": [
    {
     "name": "stdout",
     "output_type": "stream",
     "text": [
      "t = 0.000\n",
      "t = 0.010\n",
      "t = 0.020\n",
      "t = 0.030\n",
      "t = 0.040\n",
      "t = 0.050\n",
      "t = 0.060\n",
      "t = 0.070\n",
      "t = 0.080\n",
      "t = 0.090\n",
      "t = 0.100\n",
      "t = 0.110\n"
     ]
    },
    {
     "ename": "RuntimeError",
     "evalue": "GridError [ensureInterfaceMovement:/Users/samuelburbulla/dune/dune-mmesh/dune/mmesh/grid/mmesh.hh:811]: A cell has a negative volume! Maybe the interface has been moved too far?",
     "output_type": "error",
     "traceback": [
      "\u001b[0;31m---------------------------------------------------------------------------\u001b[0m",
      "\u001b[0;31mRuntimeError\u001b[0m                              Traceback (most recent call last)",
      "\u001b[0;32m<ipython-input-8-1e1047f771b2>\u001b[0m in \u001b[0;36m<module>\u001b[0;34m\u001b[0m\n\u001b[1;32m     21\u001b[0m \u001b[0;34m\u001b[0m\u001b[0m\n\u001b[1;32m     22\u001b[0m     \u001b[0mhgrid\u001b[0m\u001b[0;34m.\u001b[0m\u001b[0mmarkElements\u001b[0m\u001b[0;34m(\u001b[0m\u001b[0;34m)\u001b[0m\u001b[0;34m\u001b[0m\u001b[0;34m\u001b[0m\u001b[0m\n\u001b[0;32m---> 23\u001b[0;31m     \u001b[0mhgrid\u001b[0m\u001b[0;34m.\u001b[0m\u001b[0mensureInterfaceMovement\u001b[0m\u001b[0;34m(\u001b[0m \u001b[0;36m10\u001b[0m\u001b[0;34m*\u001b[0m\u001b[0mdt\u001b[0m\u001b[0;34m*\u001b[0m\u001b[0mgetShifts\u001b[0m\u001b[0;34m(\u001b[0m\u001b[0;34m)\u001b[0m \u001b[0;34m)\u001b[0m\u001b[0;34m\u001b[0m\u001b[0;34m\u001b[0m\u001b[0m\n\u001b[0m\u001b[1;32m     24\u001b[0m     \u001b[0madapt\u001b[0m\u001b[0;34m(\u001b[0m\u001b[0;34m[\u001b[0m\u001b[0muh\u001b[0m\u001b[0;34m,\u001b[0m \u001b[0mdm\u001b[0m\u001b[0;34m]\u001b[0m\u001b[0;34m)\u001b[0m\u001b[0;34m\u001b[0m\u001b[0;34m\u001b[0m\u001b[0m\n\u001b[1;32m     25\u001b[0m     \u001b[0mhgrid\u001b[0m\u001b[0;34m.\u001b[0m\u001b[0mmoveInterface\u001b[0m\u001b[0;34m(\u001b[0m \u001b[0mdt\u001b[0m\u001b[0;34m*\u001b[0m\u001b[0mgetShifts\u001b[0m\u001b[0;34m(\u001b[0m\u001b[0;34m)\u001b[0m \u001b[0;34m)\u001b[0m\u001b[0;34m\u001b[0m\u001b[0;34m\u001b[0m\u001b[0m\n",
      "\u001b[0;31mRuntimeError\u001b[0m: GridError [ensureInterfaceMovement:/Users/samuelburbulla/dune/dune-mmesh/dune/mmesh/grid/mmesh.hh:811]: A cell has a negative volume! Maybe the interface has been moved too far?"
     ]
    },
    {
     "data": {
      "image/png": "[encoded data removed]",
      "text/plain": [
       "<Figure size 1152x432 with 4 Axes>"
      ]
     },
     "metadata": {
      "needs_background": "light"
     },
     "output_type": "display_data"
    }
   ],
   "source": [
    "from dune.fem import parameter, adapt\n",
    "parameter.append( { \"fem.adaptation.method\": \"callback\" } )\n",
    "from dune.fem.plotting import plotPointData as plot\n",
    "import matplotlib.pyplot as plt\n",
    "\n",
    "N = 4\n",
    "i = 0\n",
    "fig, axs = plt.subplots(1, N, figsize=(16,6))\n",
    "\n",
    "uh.interpolate([0,0])\n",
    "ph.interpolate(0)\n",
    "\n",
    "step = 0\n",
    "t = 0\n",
    "while t <= T:\n",
    "    kscheme.solve(curvature)\n",
    "\n",
    "    A1.solve(target=uh1)\n",
    "    A2.solve(target=ph)\n",
    "    A3.solve(target=uh)\n",
    "\n",
    "    hgrid.markElements()\n",
    "    hgrid.ensureInterfaceMovement( 10*dt*getShifts() )\n",
    "    adapt([uh, dm])\n",
    "    hgrid.moveInterface( dt*getShifts() )\n",
    "    \n",
    "    print(\"t =\", \"{:.3f}\".format(t))\n",
    "    t += dt\n",
    "    \n",
    "    gridView.writeVTK(\"twophase-\"+str(step), pointdata=[ph, uh, uh1], celldata=[dm],\n",
    "                      nonconforming=True)\n",
    "    igridView.writeVTK(\"interface-\"+str(step), pointdata=[curvature], nonconforming=True)\n",
    "    step += 1\n",
    "    \n",
    "\n",
    "    if int(N * t/T) > i:\n",
    "        plot(ph, figure=(fig, axs[i]), gridLines=None)\n",
    "        plot(uh, figure=(fig, axs[i]), gridLines=None, vectors=[0,1])\n",
    "        i += 1"
   ]
  },
  {
   "cell_type": "code",
   "execution_count": null,
   "id": "romantic-pressing",
   "metadata": {},
   "outputs": [],
   "source": []
  }
 ],
 "metadata": {
  "kernelspec": {
   "display_name": "dev-env",
   "language": "python",
   "name": "dev-env"
  },
  "language_info": {
   "codemirror_mode": {
    "name": "ipython",
    "version": 3
   },
   "file_extension": ".py",
   "mimetype": "text/x-python",
   "name": "python",
   "nbconvert_exporter": "python",
   "pygments_lexer": "ipython3",
   "version": "3.9.1"
  }
 },
 "nbformat": 4,
 "nbformat_minor": 5
}
