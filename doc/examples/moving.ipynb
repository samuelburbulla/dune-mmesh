{
 "cells": [
  {
   "cell_type": "markdown",
   "id": "assured-parts",
   "metadata": {},
   "source": [
    "# Moving and adapting"
   ]
  },
  {
   "cell_type": "code",
   "execution_count": 1,
   "id": "spread-indian",
   "metadata": {},
   "outputs": [],
   "source": [
    "from dune.grid import reader\n",
    "from dune.mmesh import mmesh\n",
    "from dune.fem.view import adaptiveLeafGridView as adaptive\n",
    "\n",
    "file = \"grids/vertical.msh\"\n",
    "\n",
    "dim = 2\n",
    "gridView = adaptive( mmesh((reader.gmsh, file), dim) )\n",
    "\n",
    "hgrid = gridView.hierarchicalGrid\n",
    "igridView = hgrid.interfaceGrid"
   ]
  },
  {
   "cell_type": "code",
   "execution_count": 2,
   "id": "younger-howard",
   "metadata": {},
   "outputs": [],
   "source": [
    "from ufl import *\n",
    "from dune.ufl import Constant\n",
    "\n",
    "t = 0\n",
    "tEnd = 0.4\n",
    "dt = 0.05\n",
    "\n",
    "def speed():\n",
    "    return as_vector([1.0, 0.0])\n",
    "\n",
    "def movement(x):\n",
    "    return as_vector([1.0, 0.0])\n",
    "\n",
    "def f(u):\n",
    "    return speed() * u\n",
    "\n",
    "def u0(x):\n",
    "    return conditional(x[0] < 0.5, 1.0, 0.0)\n",
    "\n",
    "def uexact(x, t):\n",
    "    return u0( x - t * speed() )"
   ]
  },
  {
   "cell_type": "code",
   "execution_count": 3,
   "id": "encouraging-harvard",
   "metadata": {},
   "outputs": [],
   "source": [
    "from dune.fem.space import dglagrange\n",
    "\n",
    "space = dglagrange(gridView, order=1)\n",
    "u = TrialFunction(space)\n",
    "v = TestFunction(space)\n",
    "\n",
    "x = SpatialCoordinate(space)\n",
    "n = FacetNormal(space)\n",
    "\n",
    "uh = space.interpolate(u0(x), name=\"uh\")\n",
    "uh_old = uh.copy()"
   ]
  },
  {
   "cell_type": "code",
   "execution_count": 4,
   "id": "fourth-mortality",
   "metadata": {},
   "outputs": [],
   "source": [
    "import numpy as np\n",
    "from dune.geometry import vertex\n",
    "from dune.mmesh import edgeMovement\n",
    "\n",
    "def getShifts():\n",
    "    mapper = igridView.mapper({vertex: 1})\n",
    "    shifts = np.zeros((mapper.size, dim))\n",
    "    for v in igridView.vertices:\n",
    "        shifts[ mapper.index(v) ] = as_vector(movement( v.geometry.center ))\n",
    "    return shifts\n",
    "\n",
    "em = edgeMovement(gridView, getShifts())\n",
    "time = Constant(t, name=\"time\")\n",
    "\n",
    "def g(u, n):\n",
    "    sgn = inner(speed(), n('+'))\n",
    "    return inner( conditional( sgn > 0, f( u('+') ), f( u('-') ) ), n('+') )\n",
    "\n",
    "def gBnd(u, n):\n",
    "    sgn = inner(speed(), n)\n",
    "    return inner( conditional( sgn > 0, f(u), f(uexact(x, time)) ), n )\n",
    "\n",
    "def h(u, n):\n",
    "    sgn = inner(em('+'), n('+'))\n",
    "    return conditional( sgn > 0, sgn * u('+'), sgn * u('-') )"
   ]
  },
  {
   "cell_type": "code",
   "execution_count": 5,
   "id": "superb-passage",
   "metadata": {},
   "outputs": [
    {
     "name": "stderr",
     "output_type": "stream",
     "text": [
      "DUNE-INFO: Compiling Scheme\n"
     ]
    }
   ],
   "source": [
    "from dune.fem.scheme import galerkin\n",
    "\n",
    "detPsi = abs(det(nabla_grad(x + dt * em)))\n",
    "\n",
    "a = (u - uh_old * detPsi) * v * dx\n",
    "a += dt * (g(u, n) - h(u, n)) * jump(v) * dS\n",
    "a += dt * gBnd(u, n) * v * ds\n",
    "\n",
    "scheme = galerkin([a == 0], solver=(\"suitesparse\",\"umfpack\"))"
   ]
  },
  {
   "cell_type": "code",
   "execution_count": null,
   "id": "functioning-shelter",
   "metadata": {},
   "outputs": [],
   "source": [
    "from dune.fem import adapt\n",
    "hgrid.markElements()\n",
    "hgrid.ensureInterfaceMovement(getShifts()*10*dt)\n",
    "adapt([uh])"
   ]
  },
  {
   "cell_type": "code",
   "execution_count": null,
   "id": "alive-responsibility",
   "metadata": {},
   "outputs": [],
   "source": [
    "# from dune.fem import adapt\n",
    "# from dune.fem.plotting import plotPointData as plot\n",
    "\n",
    "# while t < tEnd:\n",
    "#     hgrid.markElements()\n",
    "#     hgrid.ensureInterfaceMovement(getShifts()*dt)\n",
    "#     adapt([uh])\n",
    "\n",
    "#     hgrid.moveInterface(getShifts()*dt)\n",
    "\n",
    "# #     em = edgeMovement(gridView, getShifts())\n",
    "#     t += dt\n",
    "#     time.assign(t)\n",
    "\n",
    "# #     uh_old.assign(uh)\n",
    "# #     scheme.solve(target=uh)\n",
    "    \n",
    "#     plot(uh)"
   ]
  },
  {
   "cell_type": "code",
   "execution_count": null,
   "id": "dominican-trick",
   "metadata": {},
   "outputs": [],
   "source": []
  }
 ],
 "metadata": {
  "kernelspec": {
   "display_name": "dev-env",
   "language": "python",
   "name": "dev-env"
  },
  "language_info": {
   "codemirror_mode": {
    "name": "ipython",
    "version": 3
   },
   "file_extension": ".py",
   "mimetype": "text/x-python",
   "name": "python",
   "nbconvert_exporter": "python",
   "pygments_lexer": "ipython3",
   "version": "3.9.1"
  }
 },
 "nbformat": 4,
 "nbformat_minor": 5
}
