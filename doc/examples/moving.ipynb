{
 "cells": [
  {
   "cell_type": "markdown",
   "id": "assured-parts",
   "metadata": {},
   "source": [
    "# Moving and adapting"
   ]
  },
  {
   "cell_type": "code",
   "execution_count": 1,
   "id": "spread-indian",
   "metadata": {},
   "outputs": [],
   "source": [
    "from dune.grid import reader\n",
    "from dune.mmesh import mmesh\n",
    "from dune.fem.view import adaptiveLeafGridView as adaptive\n",
    "\n",
    "dim = 2\n",
    "gridView = adaptive( mmesh((reader.gmsh, \"vertical.msh\"), dim) )\n",
    "\n",
    "hgrid = gridView.hierarchicalGrid\n",
    "igridView = hgrid.interfaceGrid"
   ]
  },
  {
   "cell_type": "code",
   "execution_count": 1,
   "id": "younger-howard",
   "metadata": {},
   "outputs": [],
   "source": [
    "from ufl import *\n",
    "from dune.ufl import Constant\n",
    "\n",
    "t = Constant(0, name=\"t\")\n",
    "tEnd = 1\n",
    "dt = 0.1\n",
    "\n",
    "def speed():\n",
    "    return as_vector([1.0, 0.0])\n",
    "\n",
    "def movement(x):\n",
    "    return as_vector([1.0, 0.0])\n",
    "\n",
    "def f(u):\n",
    "    return speed() * u\n",
    "\n",
    "def u0(x):\n",
    "    return conditional(x[0] < 0.5, 1.0, 0.0)\n",
    "\n",
    "def uexact(x, t):\n",
    "    return u0( x - t * speed() )"
   ]
  },
  {
   "cell_type": "code",
   "execution_count": 2,
   "id": "encouraging-harvard",
   "metadata": {},
   "outputs": [
    {
     "ename": "NameError",
     "evalue": "name 'gridView' is not defined",
     "output_type": "error",
     "traceback": [
      "\u001b[0;31m---------------------------------------------------------------------------\u001b[0m",
      "\u001b[0;31mNameError\u001b[0m                                 Traceback (most recent call last)",
      "\u001b[0;32m<ipython-input-2-1a71624636ac>\u001b[0m in \u001b[0;36m<module>\u001b[0;34m\u001b[0m\n\u001b[1;32m      1\u001b[0m \u001b[0;32mfrom\u001b[0m \u001b[0mdune\u001b[0m\u001b[0;34m.\u001b[0m\u001b[0mfem\u001b[0m\u001b[0;34m.\u001b[0m\u001b[0mspace\u001b[0m \u001b[0;32mimport\u001b[0m \u001b[0mfiniteVolume\u001b[0m\u001b[0;34m\u001b[0m\u001b[0;34m\u001b[0m\u001b[0m\n\u001b[1;32m      2\u001b[0m \u001b[0;34m\u001b[0m\u001b[0m\n\u001b[0;32m----> 3\u001b[0;31m \u001b[0mspace\u001b[0m \u001b[0;34m=\u001b[0m \u001b[0mfiniteVolume\u001b[0m\u001b[0;34m(\u001b[0m\u001b[0mgridView\u001b[0m\u001b[0;34m)\u001b[0m\u001b[0;34m\u001b[0m\u001b[0;34m\u001b[0m\u001b[0m\n\u001b[0m\u001b[1;32m      4\u001b[0m \u001b[0mu\u001b[0m \u001b[0;34m=\u001b[0m \u001b[0mTrialFunction\u001b[0m\u001b[0;34m(\u001b[0m\u001b[0mspace\u001b[0m\u001b[0;34m)\u001b[0m\u001b[0;34m\u001b[0m\u001b[0;34m\u001b[0m\u001b[0m\n\u001b[1;32m      5\u001b[0m \u001b[0mv\u001b[0m \u001b[0;34m=\u001b[0m \u001b[0mTestFunction\u001b[0m\u001b[0;34m(\u001b[0m\u001b[0mspace\u001b[0m\u001b[0;34m)\u001b[0m\u001b[0;34m\u001b[0m\u001b[0;34m\u001b[0m\u001b[0m\n",
      "\u001b[0;31mNameError\u001b[0m: name 'gridView' is not defined"
     ]
    }
   ],
   "source": [
    "from dune.fem.space import finiteVolume\n",
    "\n",
    "space = finiteVolume(gridView)\n",
    "u = TrialFunction(space)\n",
    "v = TestFunction(space)\n",
    "\n",
    "x = SpatialCoordinate(space)\n",
    "n = FacetNormal(space)\n",
    "\n",
    "uh = space.interpolate(u0(x), name=\"uh\")\n",
    "uh_old = uh.copy()"
   ]
  },
  {
   "cell_type": "code",
   "execution_count": null,
   "id": "fourth-mortality",
   "metadata": {},
   "outputs": [],
   "source": [
    "import numpy as np\n",
    "from dune.geometry import vertex\n",
    "from dune.mmesh import edgeMovement\n",
    "\n",
    "def getShifts():\n",
    "    mapper = igridView.mapper({vertex: 1})\n",
    "    shifts = np.zeros((mapper.size, dim))\n",
    "    for v in igridView.vertices:\n",
    "        shifts[ mapper.index(v) ] = as_vector(movement( v.geometry.center ))\n",
    "    return shifts\n",
    "\n",
    "em = edgeMovement(gridView, getShifts())\n",
    "\n",
    "def g(u, n):\n",
    "    sgn = inner(speed(), n('+'))\n",
    "    return inner( conditional( sgn > 0, f( u('+') ), f( u('-') ) ), n('+') )\n",
    "\n",
    "def gBnd(u, n):\n",
    "    sgn = inner(speed(), n)\n",
    "    return inner( conditional( sgn > 0, f(u), f(uexact(x, t)) ), n )\n",
    "\n",
    "def h(u, n):\n",
    "    sgn = inner(em('+'), n('+'))\n",
    "    return conditional( sgn > 0, sgn * u('+'), sgn * u('-') )"
   ]
  },
  {
   "cell_type": "code",
   "execution_count": null,
   "id": "superb-passage",
   "metadata": {},
   "outputs": [],
   "source": [
    "from dune.fem.scheme import galerkin\n",
    "\n",
    "detPsi = abs(det(nabla_grad(x + dt * em)))\n",
    "\n",
    "a = (u - uh_old * detPsi) * v * dx\n",
    "a += dt * (g(u, n) - h(u, n)) * jump(v) * dS\n",
    "a += dt * gBnd(u, n) * v * ds\n",
    "\n",
    "scheme = galerkin([a == 0], solver=(\"suitesparse\",\"umfpack\"))"
   ]
  },
  {
   "cell_type": "code",
   "execution_count": null,
   "id": "alive-responsibility",
   "metadata": {},
   "outputs": [],
   "source": [
    "from dune.fem import adapt\n",
    "from dune.fem.plotting import plotPointData as plot\n",
    "\n",
    "for step in range(1, int(tEnd/dt)+1):\n",
    "  \n",
    "    hgrid.ensureInterfaceMovement(getShifts()*dt)\n",
    "    hgrid.markElements()\n",
    "    adapt([uh])\n",
    "\n",
    "    hgrid.moveInterface(getShifts()*dt)\n",
    "\n",
    "    em = edgeMovement(gridView, getShifts())\n",
    "    t += dt\n",
    "\n",
    "    uh_old.assign(uh)\n",
    "    scheme.solve(target=uh)\n",
    "    \n",
    "    plot(uh)"
   ]
  },
  {
   "cell_type": "code",
   "execution_count": null,
   "id": "dominican-trick",
   "metadata": {},
   "outputs": [],
   "source": []
  }
 ],
 "metadata": {
  "kernelspec": {
   "display_name": "dev-env",
   "language": "python",
   "name": "dev-env"
  },
  "language_info": {
   "codemirror_mode": {
    "name": "ipython",
    "version": 3
   },
   "file_extension": ".py",
   "mimetype": "text/x-python",
   "name": "python",
   "nbconvert_exporter": "python",
   "pygments_lexer": "ipython3",
   "version": "3.9.1"
  }
 },
 "nbformat": 4,
 "nbformat_minor": 5
}
