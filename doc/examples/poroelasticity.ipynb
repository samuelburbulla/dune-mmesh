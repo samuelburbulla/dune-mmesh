{
 "cells": [
  {
   "cell_type": "markdown",
   "id": "absent-syria",
   "metadata": {},
   "source": [
    "# Poroelasticity"
   ]
  },
  {
   "cell_type": "code",
   "execution_count": 1,
   "id": "planned-bidding",
   "metadata": {},
   "outputs": [],
   "source": [
    "from dune.grid import reader\n",
    "from dune.mmesh import mmesh\n",
    "\n",
    "file = \"grids/horizontal.msh\"\n",
    "\n",
    "gridView = mmesh((reader.gmsh, file), 2)\n",
    "igridView = gridView.hierarchicalGrid.interfaceGrid"
   ]
  },
  {
   "cell_type": "code",
   "execution_count": 2,
   "id": "motivated-minute",
   "metadata": {},
   "outputs": [],
   "source": [
    "from ufl import *\n",
    "from dune.ufl import Constant\n",
    "\n",
    "E = 1\n",
    "nu = 0.3\n",
    "lamb = E * nu / ((1 + nu) * (1 - 2 * nu))\n",
    "mu = E / (2 * (1 + nu))\n",
    "\n",
    "alpha = 1\n",
    "K = 1\n",
    "p_gamma = 1e3\n",
    "\n",
    "epsilon   = lambda u: 0.5 * (nabla_grad(u) + nabla_grad(u).T)\n",
    "sigma_eff = lambda u: lamb * nabla_div(u) * Identity(2) + 2 * mu * epsilon(u)\n",
    "sigma     = lambda u, p: sigma_eff(u) - alpha * p * Identity(2)"
   ]
  },
  {
   "cell_type": "code",
   "execution_count": 3,
   "id": "atomic-disposition",
   "metadata": {},
   "outputs": [],
   "source": [
    "from dune.fem.space import dglagrange\n",
    "\n",
    "space = dglagrange(gridView, dimRange=3, order=1)\n",
    "\n",
    "trial = TrialFunction(space)\n",
    "test = TestFunction(space)\n",
    "\n",
    "p,  ux,  uy  = split(trial)\n",
    "pp, uux, uuy = split(test)\n",
    "\n",
    "u  = as_vector([ux,  uy ])\n",
    "uu = as_vector([uux, uuy])\n",
    "\n",
    "x = SpatialCoordinate(space)\n",
    "n = FacetNormal(space)"
   ]
  },
  {
   "cell_type": "code",
   "execution_count": 4,
   "id": "adapted-aruba",
   "metadata": {},
   "outputs": [],
   "source": [
    "from dune.mmesh import skeleton, trace, interfaceIndicator\n",
    "\n",
    "I = interfaceIndicator(igridView)\n",
    "beta = Constant(1e3, name=\"beta\")\n",
    "\n",
    "a = inner(sigma(u, p), epsilon(uu)) * dx\n",
    "a += inner(K * grad(p), grad(pp)) * dx\n",
    "\n",
    "a += beta * inner(jump(u), jump(uu)) * (1-I)*dS\n",
    "a += beta * inner(jump(p), jump(pp)) * (1-I)*dS\n",
    "\n",
    "a += beta * inner(as_vector([0,0]) - u, uu) * ds\n",
    "a += beta * (0 - p) * pp * ds\n",
    "\n",
    "# normal stress is -p\n",
    "a += -p_gamma * inner(uu('+'), n('+')) * I*dS\n",
    "a += -p_gamma * inner(uu('-'), n('-')) * I*dS\n",
    "\n",
    "# pressure is continuous\n",
    "a += beta * (p_gamma - p('+')) * pp('+') * I*dS\n",
    "a += beta * (p_gamma - p('-')) * pp('-') * I*dS\n",
    "\n",
    "# consistency terms\n",
    "a -= dot(dot(avg(sigma(u,p)), n('+')), jump(uu)) * dS\n",
    "a -= dot(dot(avg(epsilon(uu)), n('+')), jump(u)) * dS\n",
    "a -= inner(avg(K*grad(p)), n('+')) * jump(pp) * dS\n",
    "a -= inner(avg(K*grad(pp)), n('+')) * jump(p) * dS\n",
    "\n",
    "a -= dot(dot(sigma(u,p), n), uu) * ds\n",
    "a -= dot(dot(epsilon(uu), n), u) * ds\n",
    "a -= inner(K*grad(p), n) * pp * ds\n",
    "a -= inner(K*grad(pp), n) * p * ds"
   ]
  },
  {
   "cell_type": "code",
   "execution_count": null,
   "id": "recreational-institution",
   "metadata": {},
   "outputs": [],
   "source": [
    "from dune.fem.scheme import galerkin\n",
    "scheme = galerkin([a == 0])\n",
    "solution = space.interpolate([0,0,0], name=\"solution\")\n",
    "res = scheme.solve(target=solution)"
   ]
  },
  {
   "cell_type": "code",
   "execution_count": null,
   "id": "indoor-photograph",
   "metadata": {},
   "outputs": [],
   "source": [
    "import matplotlib.pyplot as plt\n",
    "from dune.fem.plotting import plotPointData as plot\n",
    "\n",
    "fig, axs = plt.subplots(1, 3, figsize=(15,5))\n",
    "axs[0].set_title('Pressure')\n",
    "plot(solution[0], figure=(fig, axs[0]), gridLines=None)\n",
    "axs[1].set_title('Displacement (x)')\n",
    "plot(solution[1], figure=(fig, axs[1]), gridLines=None)\n",
    "axs[2].set_title('Displacement (y)')\n",
    "plot(solution[2], figure=(fig, axs[2]), gridLines=None)"
   ]
  },
  {
   "cell_type": "code",
   "execution_count": null,
   "id": "basic-sarah",
   "metadata": {},
   "outputs": [],
   "source": []
  }
 ],
 "metadata": {
  "kernelspec": {
   "display_name": "dev-env",
   "language": "python",
   "name": "dev-env"
  },
  "language_info": {
   "codemirror_mode": {
    "name": "ipython",
    "version": 3
   },
   "file_extension": ".py",
   "mimetype": "text/x-python",
   "name": "python",
   "nbconvert_exporter": "python",
   "pygments_lexer": "ipython3",
   "version": "3.9.1"
  }
 },
 "nbformat": 4,
 "nbformat_minor": 5
}
